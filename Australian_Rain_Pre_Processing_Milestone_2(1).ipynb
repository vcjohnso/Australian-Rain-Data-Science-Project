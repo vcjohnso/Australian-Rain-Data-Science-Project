{
  "nbformat": 4,
  "nbformat_minor": 0,
  "metadata": {
    "colab": {
      "name": "Australian Rain Pre-Processing: Milestone 2",
      "provenance": [],
      "collapsed_sections": [
        "0FiAJaAJkYP1"
      ]
    },
    "kernelspec": {
      "name": "python3",
      "display_name": "Python 3"
    },
    "language_info": {
      "name": "python"
    }
  },
  "cells": [
    {
      "cell_type": "code",
      "execution_count": null,
      "metadata": {
        "colab": {
          "base_uri": "https://localhost:8080/"
        },
        "id": "94Oj1M-E17UZ",
        "outputId": "81f256a1-4d19-4c26-d3ee-616ff862b896"
      },
      "outputs": [
        {
          "output_type": "stream",
          "name": "stdout",
          "text": [
            "Drive already mounted at /content/drive; to attempt to forcibly remount, call drive.mount(\"/content/drive\", force_remount=True).\n"
          ]
        }
      ],
      "source": [
        "from google.colab import drive\n",
        "import pandas as pd\n",
        "import numpy as np\n",
        "import matplotlib.pyplot as plt\n",
        "import seaborn as sns\n",
        "import threading\n",
        "\n",
        "# Accessing Google Drive\n",
        "drive.mount('/content/drive')\n",
        "mypath = \"/content/drive/My Drive/Colab Notebooks/DS2Project/\"\n",
        "# For inspection purposes, feel free to change the 'mypath' variable to match\n",
        "# the path in your own google drive to use the dataset"
      ]
    },
    {
      "cell_type": "code",
      "source": [
        "df = pd.read_csv(mypath + \"Data/cleanedData.csv\")\n",
        "df"
      ],
      "metadata": {
        "colab": {
          "base_uri": "https://localhost:8080/",
          "height": 488
        },
        "id": "WZMSx-sl2qGR",
        "outputId": "de31361f-dd77-468c-9625-b8ab66d020aa"
      },
      "execution_count": null,
      "outputs": [
        {
          "output_type": "execute_result",
          "data": {
            "text/plain": [
              "              Date State Location  MinTemp  MaxTemp  Rainfall WindGustDir  \\\n",
              "0       2008-12-01   NSW   Albury     13.4     22.9       0.6           W   \n",
              "1       2008-12-02   NSW   Albury      7.4     25.1       0.0         WNW   \n",
              "2       2008-12-03   NSW   Albury     12.9     25.7       0.0         WSW   \n",
              "3       2008-12-04   NSW   Albury      9.2     28.0       0.0          NE   \n",
              "4       2008-12-05   NSW   Albury     17.5     32.3       1.0           W   \n",
              "...            ...   ...      ...      ...      ...       ...         ...   \n",
              "119812  2017-06-20    NT    Uluru      3.5     21.8       0.0           E   \n",
              "119813  2017-06-21    NT    Uluru      2.8     23.4       0.0           E   \n",
              "119814  2017-06-22    NT    Uluru      3.6     25.3       0.0         NNW   \n",
              "119815  2017-06-23    NT    Uluru      5.4     26.9       0.0           N   \n",
              "119816  2017-06-24    NT    Uluru      7.8     27.0       0.0          SE   \n",
              "\n",
              "        WindGustSpeed WindDir9am WindDir3pm  WindSpeed9am  WindSpeed3pm  \\\n",
              "0                44.0          W        WNW          20.0          24.0   \n",
              "1                44.0        NNW        WSW           4.0          22.0   \n",
              "2                46.0          W        WSW          19.0          26.0   \n",
              "3                24.0         SE          E          11.0           9.0   \n",
              "4                41.0        ENE         NW           7.0          20.0   \n",
              "...               ...        ...        ...           ...           ...   \n",
              "119812           31.0        ESE          E          15.0          13.0   \n",
              "119813           31.0         SE        ENE          13.0          11.0   \n",
              "119814           22.0         SE          N          13.0           9.0   \n",
              "119815           37.0         SE        WNW           9.0           9.0   \n",
              "119816           28.0        SSE          N          13.0           7.0   \n",
              "\n",
              "        Humidity9am  Humidity3pm  Pressure9am  Pressure3pm  Temp9am  Temp3pm  \\\n",
              "0              71.0         22.0       1007.7       1007.1     16.9     21.8   \n",
              "1              44.0         25.0       1010.6       1007.8     17.2     24.3   \n",
              "2              38.0         30.0       1007.6       1008.7     21.0     23.2   \n",
              "3              45.0         16.0       1017.6       1012.8     18.1     26.5   \n",
              "4              82.0         33.0       1010.8       1006.0     17.8     29.7   \n",
              "...             ...          ...          ...          ...      ...      ...   \n",
              "119812         59.0         27.0       1024.7       1021.2      9.4     20.9   \n",
              "119813         51.0         24.0       1024.6       1020.3     10.1     22.4   \n",
              "119814         56.0         21.0       1023.5       1019.1     10.9     24.5   \n",
              "119815         53.0         24.0       1021.0       1016.8     12.5     26.1   \n",
              "119816         51.0         24.0       1019.4       1016.5     15.1     26.0   \n",
              "\n",
              "       RainToday RainTomorrow  \n",
              "0             No           No  \n",
              "1             No           No  \n",
              "2             No           No  \n",
              "3             No           No  \n",
              "4             No           No  \n",
              "...          ...          ...  \n",
              "119812        No           No  \n",
              "119813        No           No  \n",
              "119814        No           No  \n",
              "119815        No           No  \n",
              "119816        No           No  \n",
              "\n",
              "[119817 rows x 20 columns]"
            ],
            "text/html": [
              "\n",
              "  <div id=\"df-5c1367e4-3963-41b7-b9e0-66ac33d8384c\">\n",
              "    <div class=\"colab-df-container\">\n",
              "      <div>\n",
              "<style scoped>\n",
              "    .dataframe tbody tr th:only-of-type {\n",
              "        vertical-align: middle;\n",
              "    }\n",
              "\n",
              "    .dataframe tbody tr th {\n",
              "        vertical-align: top;\n",
              "    }\n",
              "\n",
              "    .dataframe thead th {\n",
              "        text-align: right;\n",
              "    }\n",
              "</style>\n",
              "<table border=\"1\" class=\"dataframe\">\n",
              "  <thead>\n",
              "    <tr style=\"text-align: right;\">\n",
              "      <th></th>\n",
              "      <th>Date</th>\n",
              "      <th>State</th>\n",
              "      <th>Location</th>\n",
              "      <th>MinTemp</th>\n",
              "      <th>MaxTemp</th>\n",
              "      <th>Rainfall</th>\n",
              "      <th>WindGustDir</th>\n",
              "      <th>WindGustSpeed</th>\n",
              "      <th>WindDir9am</th>\n",
              "      <th>WindDir3pm</th>\n",
              "      <th>WindSpeed9am</th>\n",
              "      <th>WindSpeed3pm</th>\n",
              "      <th>Humidity9am</th>\n",
              "      <th>Humidity3pm</th>\n",
              "      <th>Pressure9am</th>\n",
              "      <th>Pressure3pm</th>\n",
              "      <th>Temp9am</th>\n",
              "      <th>Temp3pm</th>\n",
              "      <th>RainToday</th>\n",
              "      <th>RainTomorrow</th>\n",
              "    </tr>\n",
              "  </thead>\n",
              "  <tbody>\n",
              "    <tr>\n",
              "      <th>0</th>\n",
              "      <td>2008-12-01</td>\n",
              "      <td>NSW</td>\n",
              "      <td>Albury</td>\n",
              "      <td>13.4</td>\n",
              "      <td>22.9</td>\n",
              "      <td>0.6</td>\n",
              "      <td>W</td>\n",
              "      <td>44.0</td>\n",
              "      <td>W</td>\n",
              "      <td>WNW</td>\n",
              "      <td>20.0</td>\n",
              "      <td>24.0</td>\n",
              "      <td>71.0</td>\n",
              "      <td>22.0</td>\n",
              "      <td>1007.7</td>\n",
              "      <td>1007.1</td>\n",
              "      <td>16.9</td>\n",
              "      <td>21.8</td>\n",
              "      <td>No</td>\n",
              "      <td>No</td>\n",
              "    </tr>\n",
              "    <tr>\n",
              "      <th>1</th>\n",
              "      <td>2008-12-02</td>\n",
              "      <td>NSW</td>\n",
              "      <td>Albury</td>\n",
              "      <td>7.4</td>\n",
              "      <td>25.1</td>\n",
              "      <td>0.0</td>\n",
              "      <td>WNW</td>\n",
              "      <td>44.0</td>\n",
              "      <td>NNW</td>\n",
              "      <td>WSW</td>\n",
              "      <td>4.0</td>\n",
              "      <td>22.0</td>\n",
              "      <td>44.0</td>\n",
              "      <td>25.0</td>\n",
              "      <td>1010.6</td>\n",
              "      <td>1007.8</td>\n",
              "      <td>17.2</td>\n",
              "      <td>24.3</td>\n",
              "      <td>No</td>\n",
              "      <td>No</td>\n",
              "    </tr>\n",
              "    <tr>\n",
              "      <th>2</th>\n",
              "      <td>2008-12-03</td>\n",
              "      <td>NSW</td>\n",
              "      <td>Albury</td>\n",
              "      <td>12.9</td>\n",
              "      <td>25.7</td>\n",
              "      <td>0.0</td>\n",
              "      <td>WSW</td>\n",
              "      <td>46.0</td>\n",
              "      <td>W</td>\n",
              "      <td>WSW</td>\n",
              "      <td>19.0</td>\n",
              "      <td>26.0</td>\n",
              "      <td>38.0</td>\n",
              "      <td>30.0</td>\n",
              "      <td>1007.6</td>\n",
              "      <td>1008.7</td>\n",
              "      <td>21.0</td>\n",
              "      <td>23.2</td>\n",
              "      <td>No</td>\n",
              "      <td>No</td>\n",
              "    </tr>\n",
              "    <tr>\n",
              "      <th>3</th>\n",
              "      <td>2008-12-04</td>\n",
              "      <td>NSW</td>\n",
              "      <td>Albury</td>\n",
              "      <td>9.2</td>\n",
              "      <td>28.0</td>\n",
              "      <td>0.0</td>\n",
              "      <td>NE</td>\n",
              "      <td>24.0</td>\n",
              "      <td>SE</td>\n",
              "      <td>E</td>\n",
              "      <td>11.0</td>\n",
              "      <td>9.0</td>\n",
              "      <td>45.0</td>\n",
              "      <td>16.0</td>\n",
              "      <td>1017.6</td>\n",
              "      <td>1012.8</td>\n",
              "      <td>18.1</td>\n",
              "      <td>26.5</td>\n",
              "      <td>No</td>\n",
              "      <td>No</td>\n",
              "    </tr>\n",
              "    <tr>\n",
              "      <th>4</th>\n",
              "      <td>2008-12-05</td>\n",
              "      <td>NSW</td>\n",
              "      <td>Albury</td>\n",
              "      <td>17.5</td>\n",
              "      <td>32.3</td>\n",
              "      <td>1.0</td>\n",
              "      <td>W</td>\n",
              "      <td>41.0</td>\n",
              "      <td>ENE</td>\n",
              "      <td>NW</td>\n",
              "      <td>7.0</td>\n",
              "      <td>20.0</td>\n",
              "      <td>82.0</td>\n",
              "      <td>33.0</td>\n",
              "      <td>1010.8</td>\n",
              "      <td>1006.0</td>\n",
              "      <td>17.8</td>\n",
              "      <td>29.7</td>\n",
              "      <td>No</td>\n",
              "      <td>No</td>\n",
              "    </tr>\n",
              "    <tr>\n",
              "      <th>...</th>\n",
              "      <td>...</td>\n",
              "      <td>...</td>\n",
              "      <td>...</td>\n",
              "      <td>...</td>\n",
              "      <td>...</td>\n",
              "      <td>...</td>\n",
              "      <td>...</td>\n",
              "      <td>...</td>\n",
              "      <td>...</td>\n",
              "      <td>...</td>\n",
              "      <td>...</td>\n",
              "      <td>...</td>\n",
              "      <td>...</td>\n",
              "      <td>...</td>\n",
              "      <td>...</td>\n",
              "      <td>...</td>\n",
              "      <td>...</td>\n",
              "      <td>...</td>\n",
              "      <td>...</td>\n",
              "      <td>...</td>\n",
              "    </tr>\n",
              "    <tr>\n",
              "      <th>119812</th>\n",
              "      <td>2017-06-20</td>\n",
              "      <td>NT</td>\n",
              "      <td>Uluru</td>\n",
              "      <td>3.5</td>\n",
              "      <td>21.8</td>\n",
              "      <td>0.0</td>\n",
              "      <td>E</td>\n",
              "      <td>31.0</td>\n",
              "      <td>ESE</td>\n",
              "      <td>E</td>\n",
              "      <td>15.0</td>\n",
              "      <td>13.0</td>\n",
              "      <td>59.0</td>\n",
              "      <td>27.0</td>\n",
              "      <td>1024.7</td>\n",
              "      <td>1021.2</td>\n",
              "      <td>9.4</td>\n",
              "      <td>20.9</td>\n",
              "      <td>No</td>\n",
              "      <td>No</td>\n",
              "    </tr>\n",
              "    <tr>\n",
              "      <th>119813</th>\n",
              "      <td>2017-06-21</td>\n",
              "      <td>NT</td>\n",
              "      <td>Uluru</td>\n",
              "      <td>2.8</td>\n",
              "      <td>23.4</td>\n",
              "      <td>0.0</td>\n",
              "      <td>E</td>\n",
              "      <td>31.0</td>\n",
              "      <td>SE</td>\n",
              "      <td>ENE</td>\n",
              "      <td>13.0</td>\n",
              "      <td>11.0</td>\n",
              "      <td>51.0</td>\n",
              "      <td>24.0</td>\n",
              "      <td>1024.6</td>\n",
              "      <td>1020.3</td>\n",
              "      <td>10.1</td>\n",
              "      <td>22.4</td>\n",
              "      <td>No</td>\n",
              "      <td>No</td>\n",
              "    </tr>\n",
              "    <tr>\n",
              "      <th>119814</th>\n",
              "      <td>2017-06-22</td>\n",
              "      <td>NT</td>\n",
              "      <td>Uluru</td>\n",
              "      <td>3.6</td>\n",
              "      <td>25.3</td>\n",
              "      <td>0.0</td>\n",
              "      <td>NNW</td>\n",
              "      <td>22.0</td>\n",
              "      <td>SE</td>\n",
              "      <td>N</td>\n",
              "      <td>13.0</td>\n",
              "      <td>9.0</td>\n",
              "      <td>56.0</td>\n",
              "      <td>21.0</td>\n",
              "      <td>1023.5</td>\n",
              "      <td>1019.1</td>\n",
              "      <td>10.9</td>\n",
              "      <td>24.5</td>\n",
              "      <td>No</td>\n",
              "      <td>No</td>\n",
              "    </tr>\n",
              "    <tr>\n",
              "      <th>119815</th>\n",
              "      <td>2017-06-23</td>\n",
              "      <td>NT</td>\n",
              "      <td>Uluru</td>\n",
              "      <td>5.4</td>\n",
              "      <td>26.9</td>\n",
              "      <td>0.0</td>\n",
              "      <td>N</td>\n",
              "      <td>37.0</td>\n",
              "      <td>SE</td>\n",
              "      <td>WNW</td>\n",
              "      <td>9.0</td>\n",
              "      <td>9.0</td>\n",
              "      <td>53.0</td>\n",
              "      <td>24.0</td>\n",
              "      <td>1021.0</td>\n",
              "      <td>1016.8</td>\n",
              "      <td>12.5</td>\n",
              "      <td>26.1</td>\n",
              "      <td>No</td>\n",
              "      <td>No</td>\n",
              "    </tr>\n",
              "    <tr>\n",
              "      <th>119816</th>\n",
              "      <td>2017-06-24</td>\n",
              "      <td>NT</td>\n",
              "      <td>Uluru</td>\n",
              "      <td>7.8</td>\n",
              "      <td>27.0</td>\n",
              "      <td>0.0</td>\n",
              "      <td>SE</td>\n",
              "      <td>28.0</td>\n",
              "      <td>SSE</td>\n",
              "      <td>N</td>\n",
              "      <td>13.0</td>\n",
              "      <td>7.0</td>\n",
              "      <td>51.0</td>\n",
              "      <td>24.0</td>\n",
              "      <td>1019.4</td>\n",
              "      <td>1016.5</td>\n",
              "      <td>15.1</td>\n",
              "      <td>26.0</td>\n",
              "      <td>No</td>\n",
              "      <td>No</td>\n",
              "    </tr>\n",
              "  </tbody>\n",
              "</table>\n",
              "<p>119817 rows × 20 columns</p>\n",
              "</div>\n",
              "      <button class=\"colab-df-convert\" onclick=\"convertToInteractive('df-5c1367e4-3963-41b7-b9e0-66ac33d8384c')\"\n",
              "              title=\"Convert this dataframe to an interactive table.\"\n",
              "              style=\"display:none;\">\n",
              "        \n",
              "  <svg xmlns=\"http://www.w3.org/2000/svg\" height=\"24px\"viewBox=\"0 0 24 24\"\n",
              "       width=\"24px\">\n",
              "    <path d=\"M0 0h24v24H0V0z\" fill=\"none\"/>\n",
              "    <path d=\"M18.56 5.44l.94 2.06.94-2.06 2.06-.94-2.06-.94-.94-2.06-.94 2.06-2.06.94zm-11 1L8.5 8.5l.94-2.06 2.06-.94-2.06-.94L8.5 2.5l-.94 2.06-2.06.94zm10 10l.94 2.06.94-2.06 2.06-.94-2.06-.94-.94-2.06-.94 2.06-2.06.94z\"/><path d=\"M17.41 7.96l-1.37-1.37c-.4-.4-.92-.59-1.43-.59-.52 0-1.04.2-1.43.59L10.3 9.45l-7.72 7.72c-.78.78-.78 2.05 0 2.83L4 21.41c.39.39.9.59 1.41.59.51 0 1.02-.2 1.41-.59l7.78-7.78 2.81-2.81c.8-.78.8-2.07 0-2.86zM5.41 20L4 18.59l7.72-7.72 1.47 1.35L5.41 20z\"/>\n",
              "  </svg>\n",
              "      </button>\n",
              "      \n",
              "  <style>\n",
              "    .colab-df-container {\n",
              "      display:flex;\n",
              "      flex-wrap:wrap;\n",
              "      gap: 12px;\n",
              "    }\n",
              "\n",
              "    .colab-df-convert {\n",
              "      background-color: #E8F0FE;\n",
              "      border: none;\n",
              "      border-radius: 50%;\n",
              "      cursor: pointer;\n",
              "      display: none;\n",
              "      fill: #1967D2;\n",
              "      height: 32px;\n",
              "      padding: 0 0 0 0;\n",
              "      width: 32px;\n",
              "    }\n",
              "\n",
              "    .colab-df-convert:hover {\n",
              "      background-color: #E2EBFA;\n",
              "      box-shadow: 0px 1px 2px rgba(60, 64, 67, 0.3), 0px 1px 3px 1px rgba(60, 64, 67, 0.15);\n",
              "      fill: #174EA6;\n",
              "    }\n",
              "\n",
              "    [theme=dark] .colab-df-convert {\n",
              "      background-color: #3B4455;\n",
              "      fill: #D2E3FC;\n",
              "    }\n",
              "\n",
              "    [theme=dark] .colab-df-convert:hover {\n",
              "      background-color: #434B5C;\n",
              "      box-shadow: 0px 1px 3px 1px rgba(0, 0, 0, 0.15);\n",
              "      filter: drop-shadow(0px 1px 2px rgba(0, 0, 0, 0.3));\n",
              "      fill: #FFFFFF;\n",
              "    }\n",
              "  </style>\n",
              "\n",
              "      <script>\n",
              "        const buttonEl =\n",
              "          document.querySelector('#df-5c1367e4-3963-41b7-b9e0-66ac33d8384c button.colab-df-convert');\n",
              "        buttonEl.style.display =\n",
              "          google.colab.kernel.accessAllowed ? 'block' : 'none';\n",
              "\n",
              "        async function convertToInteractive(key) {\n",
              "          const element = document.querySelector('#df-5c1367e4-3963-41b7-b9e0-66ac33d8384c');\n",
              "          const dataTable =\n",
              "            await google.colab.kernel.invokeFunction('convertToInteractive',\n",
              "                                                     [key], {});\n",
              "          if (!dataTable) return;\n",
              "\n",
              "          const docLinkHtml = 'Like what you see? Visit the ' +\n",
              "            '<a target=\"_blank\" href=https://colab.research.google.com/notebooks/data_table.ipynb>data table notebook</a>'\n",
              "            + ' to learn more about interactive tables.';\n",
              "          element.innerHTML = '';\n",
              "          dataTable['output_type'] = 'display_data';\n",
              "          await google.colab.output.renderOutput(dataTable, element);\n",
              "          const docLink = document.createElement('div');\n",
              "          docLink.innerHTML = docLinkHtml;\n",
              "          element.appendChild(docLink);\n",
              "        }\n",
              "      </script>\n",
              "    </div>\n",
              "  </div>\n",
              "  "
            ]
          },
          "metadata": {},
          "execution_count": 104
        }
      ]
    },
    {
      "cell_type": "markdown",
      "source": [
        "#Quick Data Maintenence\n",
        "\n",
        "Some of the columns need to be adjusted from their catergorical valriables to dummy variables in order to be understood by some of the classification methods"
      ],
      "metadata": {
        "id": "rpJauxhCLGpM"
      }
    },
    {
      "cell_type": "markdown",
      "source": [
        "- Let's make date parasable, which will allow us to assign a season to each row. Seasons will be replaced by 0-3 for Summer - Spring respectively."
      ],
      "metadata": {
        "id": "Qs4vu81OMA1f"
      }
    },
    {
      "cell_type": "code",
      "source": [
        "df['Date'] = pd.to_datetime(df.Date)\n",
        "\n",
        "def getSeason(month):\n",
        "  if month == 12 or month == 1 or month == 2:\n",
        "    #summer\n",
        "    return 0\n",
        "  elif month == 3 or month == 4 or month == 5:\n",
        "    #fall\n",
        "    return 1\n",
        "  elif month == 6 or month == 7 or month == 8:\n",
        "    #winter\n",
        "    return 2\n",
        "  elif month == 9 or month == 10 or month == 11:\n",
        "    #spring\n",
        "    return 3\n",
        "\n",
        "monthHolder = []\n",
        "for i in range(df.shape[0]):\n",
        "  monthHolder.append(getSeason(df.loc[i, 'Date'].month))\n",
        "\n",
        "df['Seasons'] = monthHolder\n",
        "del monthHolder"
      ],
      "metadata": {
        "id": "RoWiL4jSL2QC"
      },
      "execution_count": null,
      "outputs": []
    },
    {
      "cell_type": "markdown",
      "source": [
        "- Next we would like to replace the wind direction attributes with numeric values. This can be done by replacing the Caridinal direction given a number from 0-360 degrees clockwise when alligned with a compass.\n",
        "\n",
        "- The following cell should only ever be run once as it directly replaces in the main dataframe."
      ],
      "metadata": {
        "id": "p15Rr-DrTp-9"
      }
    },
    {
      "cell_type": "code",
      "source": [
        "def replace_val(dir):\n",
        "  if dir == \"N\":\n",
        "    return 0.0\n",
        "  elif dir == \"NNE\":\n",
        "    return 22.5 \n",
        "  elif dir == \"NE\":\n",
        "    return 45.0\n",
        "  elif dir == \"ENE\":\n",
        "    return 67.5\n",
        "  elif dir == \"E\":\n",
        "    return 90.0\n",
        "  elif dir == \"ESE\":\n",
        "    return 112.5\n",
        "  elif dir == \"SE\":\n",
        "    return 135.0\n",
        "  elif dir == \"SSE\":\n",
        "    return 157.5\n",
        "  elif dir == \"S\":\n",
        "    return 180.0\n",
        "  elif dir == \"SSW\":\n",
        "    return 202.5\n",
        "  elif dir == \"SW\":\n",
        "    return 225.0\n",
        "  elif dir == \"WSW\":\n",
        "    return 247.5\n",
        "  elif dir == \"W\":\n",
        "    return 270.0\n",
        "  elif dir == \"WNW\":\n",
        "    return 292.5\n",
        "  elif dir == \"NW\":\n",
        "    return 315.0\n",
        "  elif dir == \"NNW\":\n",
        "    return 337.5\n",
        "\n",
        "def col_replace(col, out):\n",
        "  for i in range(df.shape[0]):\n",
        "    out.append(replace_val(df.loc[i, col]))\n",
        "  return out\n",
        "\n",
        "targetCols = ['WindGustDir', 'WindDir9am', 'WindDir3pm']\n",
        "outGust = []\n",
        "out9am = []\n",
        "out3pm = []\n",
        "outList = [outGust, out9am, out3pm]\n",
        "\n",
        "threads = list()\n",
        "for index in range(len(targetCols)):\n",
        "  x = threading.Thread(target=col_replace, args=(targetCols[index],outList[index],))\n",
        "  threads.append(x)\n",
        "  x.start()\n",
        "\n",
        "for index, thread in enumerate(threads):\n",
        "  print(\"Waiting on\", index)\n",
        "  thread.join()\n",
        "  print(index, \"Done\")\n",
        "\n",
        "for index in range(len(targetCols)):\n",
        "  df[targetCols[index]] = outList[index]"
      ],
      "metadata": {
        "colab": {
          "base_uri": "https://localhost:8080/"
        },
        "id": "N4idJ3XCUxgJ",
        "outputId": "3ff6ddf4-3a51-4792-9458-7c069337557d"
      },
      "execution_count": null,
      "outputs": [
        {
          "output_type": "stream",
          "name": "stdout",
          "text": [
            "Waiting on 0\n",
            "0 Done\n",
            "Waiting on 1\n",
            "1 Done\n",
            "Waiting on 2\n",
            "2 Done\n"
          ]
        }
      ]
    },
    {
      "cell_type": "code",
      "source": [
        "# Some quick cleanup\n",
        "del targetCols\n",
        "del outGust\n",
        "del out9am\n",
        "del out3pm\n",
        "del threads"
      ],
      "metadata": {
        "id": "DdrpKgTYhguy"
      },
      "execution_count": null,
      "outputs": []
    },
    {
      "cell_type": "code",
      "source": [
        "df = df.drop(columns=['Temp9am', 'Temp3pm'])\n",
        "df = df.apply(lambda x:x.fillna(x.value_counts().index[0]))"
      ],
      "metadata": {
        "id": "puEnEsiBh2qS"
      },
      "execution_count": null,
      "outputs": []
    },
    {
      "cell_type": "code",
      "source": [
        "df"
      ],
      "metadata": {
        "colab": {
          "base_uri": "https://localhost:8080/",
          "height": 488
        },
        "id": "SFmecaRnlxUY",
        "outputId": "559abade-9c31-43c4-d278-2ba5048720ba"
      },
      "execution_count": null,
      "outputs": [
        {
          "output_type": "execute_result",
          "data": {
            "text/plain": [
              "             Date State Location  MinTemp  MaxTemp  Rainfall  WindGustDir  \\\n",
              "0      2008-12-01   NSW   Albury     13.4     22.9       0.6        270.0   \n",
              "1      2008-12-02   NSW   Albury      7.4     25.1       0.0        292.5   \n",
              "2      2008-12-03   NSW   Albury     12.9     25.7       0.0        247.5   \n",
              "3      2008-12-04   NSW   Albury      9.2     28.0       0.0         45.0   \n",
              "4      2008-12-05   NSW   Albury     17.5     32.3       1.0        270.0   \n",
              "...           ...   ...      ...      ...      ...       ...          ...   \n",
              "119812 2017-06-20    NT    Uluru      3.5     21.8       0.0         90.0   \n",
              "119813 2017-06-21    NT    Uluru      2.8     23.4       0.0         90.0   \n",
              "119814 2017-06-22    NT    Uluru      3.6     25.3       0.0        337.5   \n",
              "119815 2017-06-23    NT    Uluru      5.4     26.9       0.0          0.0   \n",
              "119816 2017-06-24    NT    Uluru      7.8     27.0       0.0        135.0   \n",
              "\n",
              "        WindGustSpeed  WindDir9am  WindDir3pm  WindSpeed9am  WindSpeed3pm  \\\n",
              "0                44.0       270.0       292.5          20.0          24.0   \n",
              "1                44.0       337.5       247.5           4.0          22.0   \n",
              "2                46.0       270.0       247.5          19.0          26.0   \n",
              "3                24.0       135.0        90.0          11.0           9.0   \n",
              "4                41.0        67.5       315.0           7.0          20.0   \n",
              "...               ...         ...         ...           ...           ...   \n",
              "119812           31.0       112.5        90.0          15.0          13.0   \n",
              "119813           31.0       135.0        67.5          13.0          11.0   \n",
              "119814           22.0       135.0         0.0          13.0           9.0   \n",
              "119815           37.0       135.0       292.5           9.0           9.0   \n",
              "119816           28.0       157.5         0.0          13.0           7.0   \n",
              "\n",
              "        Humidity9am  Humidity3pm  Pressure9am  Pressure3pm RainToday  \\\n",
              "0              71.0         22.0       1007.7       1007.1        No   \n",
              "1              44.0         25.0       1010.6       1007.8        No   \n",
              "2              38.0         30.0       1007.6       1008.7        No   \n",
              "3              45.0         16.0       1017.6       1012.8        No   \n",
              "4              82.0         33.0       1010.8       1006.0        No   \n",
              "...             ...          ...          ...          ...       ...   \n",
              "119812         59.0         27.0       1024.7       1021.2        No   \n",
              "119813         51.0         24.0       1024.6       1020.3        No   \n",
              "119814         56.0         21.0       1023.5       1019.1        No   \n",
              "119815         53.0         24.0       1021.0       1016.8        No   \n",
              "119816         51.0         24.0       1019.4       1016.5        No   \n",
              "\n",
              "       RainTomorrow  Seasons  \n",
              "0                No        0  \n",
              "1                No        0  \n",
              "2                No        0  \n",
              "3                No        0  \n",
              "4                No        0  \n",
              "...             ...      ...  \n",
              "119812           No        2  \n",
              "119813           No        2  \n",
              "119814           No        2  \n",
              "119815           No        2  \n",
              "119816           No        2  \n",
              "\n",
              "[119817 rows x 19 columns]"
            ],
            "text/html": [
              "\n",
              "  <div id=\"df-2820e6b8-af00-4815-ab1e-3901066e589b\">\n",
              "    <div class=\"colab-df-container\">\n",
              "      <div>\n",
              "<style scoped>\n",
              "    .dataframe tbody tr th:only-of-type {\n",
              "        vertical-align: middle;\n",
              "    }\n",
              "\n",
              "    .dataframe tbody tr th {\n",
              "        vertical-align: top;\n",
              "    }\n",
              "\n",
              "    .dataframe thead th {\n",
              "        text-align: right;\n",
              "    }\n",
              "</style>\n",
              "<table border=\"1\" class=\"dataframe\">\n",
              "  <thead>\n",
              "    <tr style=\"text-align: right;\">\n",
              "      <th></th>\n",
              "      <th>Date</th>\n",
              "      <th>State</th>\n",
              "      <th>Location</th>\n",
              "      <th>MinTemp</th>\n",
              "      <th>MaxTemp</th>\n",
              "      <th>Rainfall</th>\n",
              "      <th>WindGustDir</th>\n",
              "      <th>WindGustSpeed</th>\n",
              "      <th>WindDir9am</th>\n",
              "      <th>WindDir3pm</th>\n",
              "      <th>WindSpeed9am</th>\n",
              "      <th>WindSpeed3pm</th>\n",
              "      <th>Humidity9am</th>\n",
              "      <th>Humidity3pm</th>\n",
              "      <th>Pressure9am</th>\n",
              "      <th>Pressure3pm</th>\n",
              "      <th>RainToday</th>\n",
              "      <th>RainTomorrow</th>\n",
              "      <th>Seasons</th>\n",
              "    </tr>\n",
              "  </thead>\n",
              "  <tbody>\n",
              "    <tr>\n",
              "      <th>0</th>\n",
              "      <td>2008-12-01</td>\n",
              "      <td>NSW</td>\n",
              "      <td>Albury</td>\n",
              "      <td>13.4</td>\n",
              "      <td>22.9</td>\n",
              "      <td>0.6</td>\n",
              "      <td>270.0</td>\n",
              "      <td>44.0</td>\n",
              "      <td>270.0</td>\n",
              "      <td>292.5</td>\n",
              "      <td>20.0</td>\n",
              "      <td>24.0</td>\n",
              "      <td>71.0</td>\n",
              "      <td>22.0</td>\n",
              "      <td>1007.7</td>\n",
              "      <td>1007.1</td>\n",
              "      <td>No</td>\n",
              "      <td>No</td>\n",
              "      <td>0</td>\n",
              "    </tr>\n",
              "    <tr>\n",
              "      <th>1</th>\n",
              "      <td>2008-12-02</td>\n",
              "      <td>NSW</td>\n",
              "      <td>Albury</td>\n",
              "      <td>7.4</td>\n",
              "      <td>25.1</td>\n",
              "      <td>0.0</td>\n",
              "      <td>292.5</td>\n",
              "      <td>44.0</td>\n",
              "      <td>337.5</td>\n",
              "      <td>247.5</td>\n",
              "      <td>4.0</td>\n",
              "      <td>22.0</td>\n",
              "      <td>44.0</td>\n",
              "      <td>25.0</td>\n",
              "      <td>1010.6</td>\n",
              "      <td>1007.8</td>\n",
              "      <td>No</td>\n",
              "      <td>No</td>\n",
              "      <td>0</td>\n",
              "    </tr>\n",
              "    <tr>\n",
              "      <th>2</th>\n",
              "      <td>2008-12-03</td>\n",
              "      <td>NSW</td>\n",
              "      <td>Albury</td>\n",
              "      <td>12.9</td>\n",
              "      <td>25.7</td>\n",
              "      <td>0.0</td>\n",
              "      <td>247.5</td>\n",
              "      <td>46.0</td>\n",
              "      <td>270.0</td>\n",
              "      <td>247.5</td>\n",
              "      <td>19.0</td>\n",
              "      <td>26.0</td>\n",
              "      <td>38.0</td>\n",
              "      <td>30.0</td>\n",
              "      <td>1007.6</td>\n",
              "      <td>1008.7</td>\n",
              "      <td>No</td>\n",
              "      <td>No</td>\n",
              "      <td>0</td>\n",
              "    </tr>\n",
              "    <tr>\n",
              "      <th>3</th>\n",
              "      <td>2008-12-04</td>\n",
              "      <td>NSW</td>\n",
              "      <td>Albury</td>\n",
              "      <td>9.2</td>\n",
              "      <td>28.0</td>\n",
              "      <td>0.0</td>\n",
              "      <td>45.0</td>\n",
              "      <td>24.0</td>\n",
              "      <td>135.0</td>\n",
              "      <td>90.0</td>\n",
              "      <td>11.0</td>\n",
              "      <td>9.0</td>\n",
              "      <td>45.0</td>\n",
              "      <td>16.0</td>\n",
              "      <td>1017.6</td>\n",
              "      <td>1012.8</td>\n",
              "      <td>No</td>\n",
              "      <td>No</td>\n",
              "      <td>0</td>\n",
              "    </tr>\n",
              "    <tr>\n",
              "      <th>4</th>\n",
              "      <td>2008-12-05</td>\n",
              "      <td>NSW</td>\n",
              "      <td>Albury</td>\n",
              "      <td>17.5</td>\n",
              "      <td>32.3</td>\n",
              "      <td>1.0</td>\n",
              "      <td>270.0</td>\n",
              "      <td>41.0</td>\n",
              "      <td>67.5</td>\n",
              "      <td>315.0</td>\n",
              "      <td>7.0</td>\n",
              "      <td>20.0</td>\n",
              "      <td>82.0</td>\n",
              "      <td>33.0</td>\n",
              "      <td>1010.8</td>\n",
              "      <td>1006.0</td>\n",
              "      <td>No</td>\n",
              "      <td>No</td>\n",
              "      <td>0</td>\n",
              "    </tr>\n",
              "    <tr>\n",
              "      <th>...</th>\n",
              "      <td>...</td>\n",
              "      <td>...</td>\n",
              "      <td>...</td>\n",
              "      <td>...</td>\n",
              "      <td>...</td>\n",
              "      <td>...</td>\n",
              "      <td>...</td>\n",
              "      <td>...</td>\n",
              "      <td>...</td>\n",
              "      <td>...</td>\n",
              "      <td>...</td>\n",
              "      <td>...</td>\n",
              "      <td>...</td>\n",
              "      <td>...</td>\n",
              "      <td>...</td>\n",
              "      <td>...</td>\n",
              "      <td>...</td>\n",
              "      <td>...</td>\n",
              "      <td>...</td>\n",
              "    </tr>\n",
              "    <tr>\n",
              "      <th>119812</th>\n",
              "      <td>2017-06-20</td>\n",
              "      <td>NT</td>\n",
              "      <td>Uluru</td>\n",
              "      <td>3.5</td>\n",
              "      <td>21.8</td>\n",
              "      <td>0.0</td>\n",
              "      <td>90.0</td>\n",
              "      <td>31.0</td>\n",
              "      <td>112.5</td>\n",
              "      <td>90.0</td>\n",
              "      <td>15.0</td>\n",
              "      <td>13.0</td>\n",
              "      <td>59.0</td>\n",
              "      <td>27.0</td>\n",
              "      <td>1024.7</td>\n",
              "      <td>1021.2</td>\n",
              "      <td>No</td>\n",
              "      <td>No</td>\n",
              "      <td>2</td>\n",
              "    </tr>\n",
              "    <tr>\n",
              "      <th>119813</th>\n",
              "      <td>2017-06-21</td>\n",
              "      <td>NT</td>\n",
              "      <td>Uluru</td>\n",
              "      <td>2.8</td>\n",
              "      <td>23.4</td>\n",
              "      <td>0.0</td>\n",
              "      <td>90.0</td>\n",
              "      <td>31.0</td>\n",
              "      <td>135.0</td>\n",
              "      <td>67.5</td>\n",
              "      <td>13.0</td>\n",
              "      <td>11.0</td>\n",
              "      <td>51.0</td>\n",
              "      <td>24.0</td>\n",
              "      <td>1024.6</td>\n",
              "      <td>1020.3</td>\n",
              "      <td>No</td>\n",
              "      <td>No</td>\n",
              "      <td>2</td>\n",
              "    </tr>\n",
              "    <tr>\n",
              "      <th>119814</th>\n",
              "      <td>2017-06-22</td>\n",
              "      <td>NT</td>\n",
              "      <td>Uluru</td>\n",
              "      <td>3.6</td>\n",
              "      <td>25.3</td>\n",
              "      <td>0.0</td>\n",
              "      <td>337.5</td>\n",
              "      <td>22.0</td>\n",
              "      <td>135.0</td>\n",
              "      <td>0.0</td>\n",
              "      <td>13.0</td>\n",
              "      <td>9.0</td>\n",
              "      <td>56.0</td>\n",
              "      <td>21.0</td>\n",
              "      <td>1023.5</td>\n",
              "      <td>1019.1</td>\n",
              "      <td>No</td>\n",
              "      <td>No</td>\n",
              "      <td>2</td>\n",
              "    </tr>\n",
              "    <tr>\n",
              "      <th>119815</th>\n",
              "      <td>2017-06-23</td>\n",
              "      <td>NT</td>\n",
              "      <td>Uluru</td>\n",
              "      <td>5.4</td>\n",
              "      <td>26.9</td>\n",
              "      <td>0.0</td>\n",
              "      <td>0.0</td>\n",
              "      <td>37.0</td>\n",
              "      <td>135.0</td>\n",
              "      <td>292.5</td>\n",
              "      <td>9.0</td>\n",
              "      <td>9.0</td>\n",
              "      <td>53.0</td>\n",
              "      <td>24.0</td>\n",
              "      <td>1021.0</td>\n",
              "      <td>1016.8</td>\n",
              "      <td>No</td>\n",
              "      <td>No</td>\n",
              "      <td>2</td>\n",
              "    </tr>\n",
              "    <tr>\n",
              "      <th>119816</th>\n",
              "      <td>2017-06-24</td>\n",
              "      <td>NT</td>\n",
              "      <td>Uluru</td>\n",
              "      <td>7.8</td>\n",
              "      <td>27.0</td>\n",
              "      <td>0.0</td>\n",
              "      <td>135.0</td>\n",
              "      <td>28.0</td>\n",
              "      <td>157.5</td>\n",
              "      <td>0.0</td>\n",
              "      <td>13.0</td>\n",
              "      <td>7.0</td>\n",
              "      <td>51.0</td>\n",
              "      <td>24.0</td>\n",
              "      <td>1019.4</td>\n",
              "      <td>1016.5</td>\n",
              "      <td>No</td>\n",
              "      <td>No</td>\n",
              "      <td>2</td>\n",
              "    </tr>\n",
              "  </tbody>\n",
              "</table>\n",
              "<p>119817 rows × 19 columns</p>\n",
              "</div>\n",
              "      <button class=\"colab-df-convert\" onclick=\"convertToInteractive('df-2820e6b8-af00-4815-ab1e-3901066e589b')\"\n",
              "              title=\"Convert this dataframe to an interactive table.\"\n",
              "              style=\"display:none;\">\n",
              "        \n",
              "  <svg xmlns=\"http://www.w3.org/2000/svg\" height=\"24px\"viewBox=\"0 0 24 24\"\n",
              "       width=\"24px\">\n",
              "    <path d=\"M0 0h24v24H0V0z\" fill=\"none\"/>\n",
              "    <path d=\"M18.56 5.44l.94 2.06.94-2.06 2.06-.94-2.06-.94-.94-2.06-.94 2.06-2.06.94zm-11 1L8.5 8.5l.94-2.06 2.06-.94-2.06-.94L8.5 2.5l-.94 2.06-2.06.94zm10 10l.94 2.06.94-2.06 2.06-.94-2.06-.94-.94-2.06-.94 2.06-2.06.94z\"/><path d=\"M17.41 7.96l-1.37-1.37c-.4-.4-.92-.59-1.43-.59-.52 0-1.04.2-1.43.59L10.3 9.45l-7.72 7.72c-.78.78-.78 2.05 0 2.83L4 21.41c.39.39.9.59 1.41.59.51 0 1.02-.2 1.41-.59l7.78-7.78 2.81-2.81c.8-.78.8-2.07 0-2.86zM5.41 20L4 18.59l7.72-7.72 1.47 1.35L5.41 20z\"/>\n",
              "  </svg>\n",
              "      </button>\n",
              "      \n",
              "  <style>\n",
              "    .colab-df-container {\n",
              "      display:flex;\n",
              "      flex-wrap:wrap;\n",
              "      gap: 12px;\n",
              "    }\n",
              "\n",
              "    .colab-df-convert {\n",
              "      background-color: #E8F0FE;\n",
              "      border: none;\n",
              "      border-radius: 50%;\n",
              "      cursor: pointer;\n",
              "      display: none;\n",
              "      fill: #1967D2;\n",
              "      height: 32px;\n",
              "      padding: 0 0 0 0;\n",
              "      width: 32px;\n",
              "    }\n",
              "\n",
              "    .colab-df-convert:hover {\n",
              "      background-color: #E2EBFA;\n",
              "      box-shadow: 0px 1px 2px rgba(60, 64, 67, 0.3), 0px 1px 3px 1px rgba(60, 64, 67, 0.15);\n",
              "      fill: #174EA6;\n",
              "    }\n",
              "\n",
              "    [theme=dark] .colab-df-convert {\n",
              "      background-color: #3B4455;\n",
              "      fill: #D2E3FC;\n",
              "    }\n",
              "\n",
              "    [theme=dark] .colab-df-convert:hover {\n",
              "      background-color: #434B5C;\n",
              "      box-shadow: 0px 1px 3px 1px rgba(0, 0, 0, 0.15);\n",
              "      filter: drop-shadow(0px 1px 2px rgba(0, 0, 0, 0.3));\n",
              "      fill: #FFFFFF;\n",
              "    }\n",
              "  </style>\n",
              "\n",
              "      <script>\n",
              "        const buttonEl =\n",
              "          document.querySelector('#df-2820e6b8-af00-4815-ab1e-3901066e589b button.colab-df-convert');\n",
              "        buttonEl.style.display =\n",
              "          google.colab.kernel.accessAllowed ? 'block' : 'none';\n",
              "\n",
              "        async function convertToInteractive(key) {\n",
              "          const element = document.querySelector('#df-2820e6b8-af00-4815-ab1e-3901066e589b');\n",
              "          const dataTable =\n",
              "            await google.colab.kernel.invokeFunction('convertToInteractive',\n",
              "                                                     [key], {});\n",
              "          if (!dataTable) return;\n",
              "\n",
              "          const docLinkHtml = 'Like what you see? Visit the ' +\n",
              "            '<a target=\"_blank\" href=https://colab.research.google.com/notebooks/data_table.ipynb>data table notebook</a>'\n",
              "            + ' to learn more about interactive tables.';\n",
              "          element.innerHTML = '';\n",
              "          dataTable['output_type'] = 'display_data';\n",
              "          await google.colab.output.renderOutput(dataTable, element);\n",
              "          const docLink = document.createElement('div');\n",
              "          docLink.innerHTML = docLinkHtml;\n",
              "          element.appendChild(docLink);\n",
              "        }\n",
              "      </script>\n",
              "    </div>\n",
              "  </div>\n",
              "  "
            ]
          },
          "metadata": {},
          "execution_count": 109
        }
      ]
    },
    {
      "cell_type": "markdown",
      "source": [
        "#CheckPoint 1\n",
        "- In case of loss of connection, the dataframe after these edits has been saved separately under checkpoint.csv. Simply run the last two cells under this checkpoint to resume."
      ],
      "metadata": {
        "id": "0FiAJaAJkYP1"
      }
    },
    {
      "cell_type": "code",
      "source": [
        "compression_opts = dict(method='zip',archive_name='checkpoint.csv')\n",
        "df.to_csv('checkpoint.zip', index=False, compression=compression_opts)"
      ],
      "metadata": {
        "id": "mdymtoaOg5wu"
      },
      "execution_count": null,
      "outputs": []
    },
    {
      "cell_type": "code",
      "source": [
        "from google.colab import drive\n",
        "import pandas as pd\n",
        "import numpy as np\n",
        "import matplotlib.pyplot as plt\n",
        "import seaborn as sns\n",
        "import threading\n",
        "\n",
        "drive.mount('/content/drive')\n",
        "mypath = \"/content/drive/My Drive/Colab Notebooks/DS2Project/\""
      ],
      "metadata": {
        "id": "ok5mYowDlwvI",
        "colab": {
          "base_uri": "https://localhost:8080/"
        },
        "outputId": "c42d99cb-42ba-4dc3-e9c5-99c6dc65cf35"
      },
      "execution_count": null,
      "outputs": [
        {
          "output_type": "stream",
          "name": "stdout",
          "text": [
            "Drive already mounted at /content/drive; to attempt to forcibly remount, call drive.mount(\"/content/drive\", force_remount=True).\n"
          ]
        }
      ]
    },
    {
      "cell_type": "code",
      "source": [
        "df = pd.read_csv(mypath + \"Data/checkpoint.csv\")"
      ],
      "metadata": {
        "id": "wP5-wz9BmEHl"
      },
      "execution_count": null,
      "outputs": []
    },
    {
      "cell_type": "markdown",
      "source": [
        "#Model 1: Using Random Forest Classifer to Predict Rain Tomorrow\n",
        "\n",
        "\n"
      ],
      "metadata": {
        "id": "AWz1qh58-yM5"
      }
    },
    {
      "cell_type": "code",
      "source": [
        "from sklearn.impute import SimpleImputer\n",
        "from sklearn.preprocessing import LabelEncoder, StandardScaler\n",
        "from sklearn.model_selection import train_test_split\n",
        "from sklearn.ensemble import RandomForestClassifier\n",
        "from sklearn.metrics import accuracy_score, confusion_matrix, ConfusionMatrixDisplay"
      ],
      "metadata": {
        "id": "yM6bADr-UzJy"
      },
      "execution_count": null,
      "outputs": []
    },
    {
      "cell_type": "code",
      "source": [
        "#Ignore Date, Location, and RainTomorrow for X\n",
        "#Everything except location and rain tomorrow\n",
        "X = df.iloc[:,[1,3,4,5,6,7,8,9,10,11,12,13,14,15,16,18]].values\n",
        "Y = df.iloc[:, 17].values\n",
        "Y = Y.reshape(-1, 1)\n",
        "print(X)\n",
        "print(Y)"
      ],
      "metadata": {
        "colab": {
          "base_uri": "https://localhost:8080/"
        },
        "id": "UgwPtWSa_V8e",
        "outputId": "7effc05b-3071-4ebc-d993-c66cb57f8b6c"
      },
      "execution_count": null,
      "outputs": [
        {
          "output_type": "stream",
          "name": "stdout",
          "text": [
            "[['NSW' 13.4 22.9 ... 1007.1 'No' 0]\n",
            " ['NSW' 7.4 25.1 ... 1007.8 'No' 0]\n",
            " ['NSW' 12.9 25.7 ... 1008.7 'No' 0]\n",
            " ...\n",
            " ['NT' 3.6 25.3 ... 1019.1 'No' 2]\n",
            " ['NT' 5.4 26.9 ... 1016.8 'No' 2]\n",
            " ['NT' 7.8 27.0 ... 1016.5 'No' 2]]\n",
            "[['No']\n",
            " ['No']\n",
            " ['No']\n",
            " ...\n",
            " ['No']\n",
            " ['No']\n",
            " ['No']]\n"
          ]
        }
      ]
    },
    {
      "cell_type": "code",
      "source": [
        "# Encode the data for the State category to numerical\n",
        "# from sklearn.preprocessing import LabelEncoder\n",
        "le = LabelEncoder()\n",
        "X[:,0] = le.fit_transform(X[:,0])\n",
        "le2 = LabelEncoder()\n",
        "X[:,14] = le2.fit_transform(X[:,14])\n",
        "le3 = LabelEncoder()\n",
        "Y[:,-1] = le3.fit_transform(Y[:,-1])"
      ],
      "metadata": {
        "id": "51Nm6EaeBeTf"
      },
      "execution_count": null,
      "outputs": []
    },
    {
      "cell_type": "code",
      "source": [
        "Y = np.array(Y, dtype=float)"
      ],
      "metadata": {
        "id": "dE6YIgRKOOf9"
      },
      "execution_count": null,
      "outputs": []
    },
    {
      "cell_type": "code",
      "source": [
        "# Scalarize the data\n",
        "# from sklearn.preprocessing import StandardScaler\n",
        "sc = StandardScaler()\n",
        "X = sc.fit_transform(X)\n",
        "print(X)\n",
        "print(Y)"
      ],
      "metadata": {
        "colab": {
          "base_uri": "https://localhost:8080/"
        },
        "id": "phtcbwrGDG81",
        "outputId": "b9122ace-267b-4bcf-d2b7-3c0c4981049c"
      },
      "execution_count": null,
      "outputs": [
        {
          "output_type": "stream",
          "name": "stdout",
          "text": [
            "[[-1.09144172  0.1805705  -0.04354919 ... -1.18647384 -0.53783808\n",
            "  -1.35654264]\n",
            " [-1.09144172 -0.744614    0.25909041 ... -1.083814   -0.53783808\n",
            "  -1.35654264]\n",
            " [-1.09144172  0.10347179  0.34162848 ... -0.95182277 -0.53783808\n",
            "  -1.35654264]\n",
            " ...\n",
            " [-0.67857562 -1.33056418  0.2866031  ...  0.57340917 -0.53783808\n",
            "   0.45606882]\n",
            " [-0.67857562 -1.05300883  0.50670462 ...  0.23609826 -0.53783808\n",
            "   0.45606882]\n",
            " [-0.67857562 -0.68293503  0.52046097 ...  0.19210119 -0.53783808\n",
            "   0.45606882]]\n",
            "[[0.]\n",
            " [0.]\n",
            " [0.]\n",
            " ...\n",
            " [0.]\n",
            " [0.]\n",
            " [0.]]\n"
          ]
        }
      ]
    },
    {
      "cell_type": "code",
      "source": [
        "from sklearn.model_selection import train_test_split\n",
        "# 80% train 20% test\n",
        "X_train,X_test,Y_train,Y_test = train_test_split(X,Y,test_size=0.2,random_state=123)\n",
        "Y_train = Y_train.reshape(-1,1)\n",
        "\n",
        "print(X_train)\n",
        "print(Y_train)"
      ],
      "metadata": {
        "colab": {
          "base_uri": "https://localhost:8080/"
        },
        "id": "FNcEPeNBDu2N",
        "outputId": "2694dd53-c2f3-4191-aa1b-bb68b55ef066"
      },
      "execution_count": null,
      "outputs": [
        {
          "output_type": "stream",
          "name": "stdout",
          "text": [
            "[[ 0.97288878  0.02637308 -1.03400605 ...  0.03077858  1.85929563\n",
            "   1.36237455]\n",
            " [ 1.38575488 -1.09926806 -1.29537661 ...  0.04544427 -0.53783808\n",
            "   0.45606882]\n",
            " [ 0.56002268 -0.31286124  0.21782137 ... -0.58518048 -0.53783808\n",
            "   1.36237455]\n",
            " ...\n",
            " [-1.09144172  0.27308894  1.02944575 ... -1.50911906 -0.53783808\n",
            "  -0.45023691]\n",
            " [-1.09144172  0.02637308 -0.7451228  ...  2.25996372 -0.53783808\n",
            "  -0.45023691]\n",
            " [-0.67857562  0.08805205  1.20827824 ... -0.45318925 -0.53783808\n",
            "  -0.45023691]]\n",
            "[[0.]\n",
            " [0.]\n",
            " [0.]\n",
            " ...\n",
            " [0.]\n",
            " [0.]\n",
            " [0.]]\n"
          ]
        }
      ]
    },
    {
      "cell_type": "code",
      "source": [
        "from sklearn.ensemble import RandomForestClassifier\n",
        "classifier = RandomForestClassifier(n_estimators=100, random_state=0)\n",
        "classifier.fit(X_train, Y_train.ravel())\n",
        "classifier.score(X_train, Y_train)"
      ],
      "metadata": {
        "colab": {
          "base_uri": "https://localhost:8080/"
        },
        "id": "UuHyT8PTEOqv",
        "outputId": "a92e2b89-758b-4266-a92c-2f1f3c7db81a"
      },
      "execution_count": null,
      "outputs": [
        {
          "output_type": "execute_result",
          "data": {
            "text/plain": [
              "0.9999895673583508"
            ]
          },
          "metadata": {},
          "execution_count": 116
        }
      ]
    },
    {
      "cell_type": "code",
      "source": [
        "Y_pred = le3.inverse_transform(np.array(classifier.predict(X_test), dtype=int))\n",
        "Y_test = le3.inverse_transform(np.array(Y_test,dtype=int))\n",
        "Y_pred = Y_pred.reshape(-1, 1)\n",
        "Y_test = Y_test.reshape(-1, 1)\n",
        "print(Y_pred)\n",
        "print(Y_test)"
      ],
      "metadata": {
        "colab": {
          "base_uri": "https://localhost:8080/"
        },
        "id": "Qz7j1q01HNHL",
        "outputId": "0230cf8d-aae6-46d7-90ab-b0d32e3621bb"
      },
      "execution_count": null,
      "outputs": [
        {
          "output_type": "stream",
          "name": "stdout",
          "text": [
            "[['No']\n",
            " ['No']\n",
            " ['No']\n",
            " ...\n",
            " ['No']\n",
            " ['No']\n",
            " ['No']]\n",
            "[['No']\n",
            " ['No']\n",
            " ['No']\n",
            " ...\n",
            " ['No']\n",
            " ['Yes']\n",
            " ['No']]\n"
          ]
        },
        {
          "output_type": "stream",
          "name": "stderr",
          "text": [
            "/usr/local/lib/python3.7/dist-packages/sklearn/preprocessing/_label.py:154: DataConversionWarning: A column-vector y was passed when a 1d array was expected. Please change the shape of y to (n_samples, ), for example using ravel().\n",
            "  y = column_or_1d(y, warn=True)\n"
          ]
        }
      ]
    },
    {
      "cell_type": "code",
      "source": [
        "# from sklearn.metrics import accuracy_score\n",
        "accuracy_score(Y_test, Y_pred)"
      ],
      "metadata": {
        "colab": {
          "base_uri": "https://localhost:8080/"
        },
        "id": "PJ1FS7ajJHK5",
        "outputId": "67eb0fbd-6acc-4c73-a7bb-8a37ecf3cbd8"
      },
      "execution_count": null,
      "outputs": [
        {
          "output_type": "execute_result",
          "data": {
            "text/plain": [
              "0.8556584877315974"
            ]
          },
          "metadata": {},
          "execution_count": 118
        }
      ]
    },
    {
      "cell_type": "code",
      "source": [
        "Y_pred = le3.fit_transform(Y_pred[:,-1])\n",
        "Y_test = le3.fit_transform(Y_test[:,-1])\n",
        "# from sklearn.metrics import confusion_matrix, ConfusionMatrixDisplay\n",
        "cm = confusion_matrix(Y_test, Y_pred, labels=classifier.classes_)\n",
        "disp = ConfusionMatrixDisplay(confusion_matrix=cm, display_labels=classifier.classes_)"
      ],
      "metadata": {
        "id": "UQ3BPU20Pqlz"
      },
      "execution_count": null,
      "outputs": []
    },
    {
      "cell_type": "code",
      "source": [
        "disp.plot()"
      ],
      "metadata": {
        "colab": {
          "base_uri": "https://localhost:8080/",
          "height": 297
        },
        "id": "KRYKuJvQUatZ",
        "outputId": "5b6bf87a-42a0-4ca2-8faf-2079a3f4eb30"
      },
      "execution_count": null,
      "outputs": [
        {
          "output_type": "execute_result",
          "data": {
            "text/plain": [
              "<sklearn.metrics._plot.confusion_matrix.ConfusionMatrixDisplay at 0x7f84446c3310>"
            ]
          },
          "metadata": {},
          "execution_count": 120
        },
        {
          "output_type": "display_data",
          "data": {
            "text/plain": [
              "<Figure size 432x288 with 2 Axes>"
            ],
            "image/png": "[encoded data removed]"
          },
          "metadata": {
            "needs_background": "light"
          }
        }
      ]
    },
    {
      "cell_type": "code",
      "source": [
        "print(17733/(17733 + 852))\n",
        "print(2772/(2772 + 2607))"
      ],
      "metadata": {
        "colab": {
          "base_uri": "https://localhost:8080/"
        },
        "id": "w_6z7MWhe_i1",
        "outputId": "ddd8c86d-8abc-41ec-fbf9-5fa7ca60bf38"
      },
      "execution_count": null,
      "outputs": [
        {
          "output_type": "stream",
          "name": "stdout",
          "text": [
            "0.9541565778853914\n",
            "0.5153374233128835\n"
          ]
        }
      ]
    },
    {
      "cell_type": "markdown",
      "source": [
        "Accuracy of the model is good at ~85%, and the model is very good at predicting when it will not rain tomorrow. However, of the ~5000 instances of RainTomorrow = 'Yes', the only predicts about half correctly. This suggests that the model is likely too rigid."
      ],
      "metadata": {
        "id": "CUZxocq6V6EE"
      }
    },
    {
      "cell_type": "markdown",
      "source": [
        "How will changing nestimators change performance?"
      ],
      "metadata": {
        "id": "RxNiuOV1Zt1H"
      }
    },
    {
      "cell_type": "code",
      "source": [
        "#States\n",
        "ACT = df[df['State'] == \"ACT\"]\n",
        "NI = df[df['State'] == \"NI\"]\n",
        "NSW = df[df['State'] == \"NSW\"]\n",
        "NT = df[df['State'] == \"NT\"]\n",
        "QSL = df[df['State'] == \"QSL\"]\n",
        "SA = df[df['State'] == \"SA\"]\n",
        "TAS = df[df['State'] == \"TAS\"]\n",
        "VIC = df[df['State'] == \"VIC\"]\n",
        "WA = df[df['State'] == \"WA\"]\n",
        "\n",
        "#Seasons\n",
        "Summer = df[df['Seasons'] == 0]\n",
        "Fall = df[df['Seasons'] == 1]\n",
        "Winter = df[df['Seasons'] == 2]\n",
        "Spring = df[df['Seasons'] == 3]"
      ],
      "metadata": {
        "id": "I8avuxoeVzWc"
      },
      "execution_count": null,
      "outputs": []
    },
    {
      "cell_type": "code",
      "source": [
        "def runmodel(dataframe, rand, mode):\n",
        "  xCols = []\n",
        "  if mode:\n",
        "    xCols = [3,4,5,6,7,8,9,10,11,12,13,14,15,16,18]\n",
        "  else:\n",
        "    xCols = [1,3,4,5,6,7,8,9,10,11,12,13,14,15,16]\n",
        "  \n",
        "  X = dataframe.iloc[:,xCols].values\n",
        "  Y = dataframe.iloc[:, 17].values\n",
        "  Y = Y.reshape(-1, 1)\n",
        "\n",
        "  if mode:\n",
        "    le1 = LabelEncoder()\n",
        "    X[:,13] = le1.fit_transform(X[:,13])\n",
        "  else:\n",
        "    le1 = LabelEncoder()\n",
        "    X[:,0] = le1.fit_transform(X[:,0])\n",
        "    le2 = LabelEncoder()\n",
        "    X[:,14] = le2.fit_transform(X[:,14])\n",
        "\n",
        "  le = LabelEncoder()\n",
        "  Y[:,-1] = le.fit_transform(Y[:,-1])\n",
        "\n",
        "  Y = np.array(Y, dtype=float)\n",
        "  X = sc.fit_transform(X)\n",
        "\n",
        "  X_train,X_test,Y_train,Y_test = train_test_split(X,Y,test_size=0.20,random_state=rand)\n",
        "  Y_train = Y_train.reshape(-1,1)\n",
        "\n",
        "  classifier = RandomForestClassifier(n_estimators=50, random_state=0)\n",
        "  classifier.fit(X_train, Y_train.ravel())\n",
        "  print(classifier.score(X_train, Y_train))\n",
        "\n",
        "  Y_pred = le3.inverse_transform(np.array(classifier.predict(X_test), dtype=int))\n",
        "  Y_test = le3.inverse_transform(np.array(Y_test,dtype=int))\n",
        "  Y_pred = Y_pred.reshape(-1, 1)\n",
        "  Y_test = Y_test.reshape(-1, 1)\n",
        "  print(accuracy_score(Y_test, Y_pred))\n",
        "\n",
        "  Y_pred = le3.fit_transform(Y_pred[:,-1])\n",
        "  Y_test = le3.fit_transform(Y_test[:,-1])\n",
        "  cm = confusion_matrix(Y_test, Y_pred, labels=classifier.classes_)\n",
        "  print(cm, \"\\n\")"
      ],
      "metadata": {
        "id": "Mglsq7vrZ8U6"
      },
      "execution_count": null,
      "outputs": []
    },
    {
      "cell_type": "code",
      "source": [
        "import random\n",
        "stateList = [ACT, NI, NSW, NT, QSL, SA, TAS, VIC, WA]\n",
        "states = [\"ACT\", \"NI\", \"NSW\", \"NT\", \"QSL\", \"SA\", \"TAS\", \"WA\"]\n",
        "seasonList = [Summer, Fall, Winter, Spring]\n",
        "seasons = [\"Summer\", \"Fall\", \"Winter\", \"Spring\"]\n",
        "\n",
        "for i in range(len(states)):\n",
        "  print(states[i], \"\\n\")\n",
        "  randy = random.randint(0,40)\n",
        "  runmodel(stateList[i], randy, True)\n",
        "\n",
        "for j in range(len(seasons)):\n",
        "  print(seasons[j], \"\\n\")\n",
        "  randy = random.randint(0,20)\n",
        "  runmodel(seasonList[j], randy, False)\n"
      ],
      "metadata": {
        "colab": {
          "base_uri": "https://localhost:8080/"
        },
        "id": "V2WPyajWZRIh",
        "outputId": "0378322c-13fe-419a-9de8-930ac6682e75"
      },
      "execution_count": null,
      "outputs": [
        {
          "output_type": "stream",
          "name": "stdout",
          "text": [
            "ACT \n",
            "\n",
            "0.9987325728770595\n",
            "0.8682432432432432\n",
            "[[471   9]\n",
            " [ 69  43]] \n",
            "\n",
            "NI \n",
            "\n"
          ]
        },
        {
          "output_type": "stream",
          "name": "stderr",
          "text": [
            "/usr/local/lib/python3.7/dist-packages/sklearn/preprocessing/_label.py:154: DataConversionWarning: A column-vector y was passed when a 1d array was expected. Please change the shape of y to (n_samples, ), for example using ravel().\n",
            "  y = column_or_1d(y, warn=True)\n"
          ]
        },
        {
          "output_type": "stream",
          "name": "stdout",
          "text": [
            "1.0\n",
            "0.7945670628183361\n",
            "[[377  33]\n",
            " [ 88  91]] \n",
            "\n",
            "NSW \n",
            "\n"
          ]
        },
        {
          "output_type": "stream",
          "name": "stderr",
          "text": [
            "/usr/local/lib/python3.7/dist-packages/sklearn/preprocessing/_label.py:154: DataConversionWarning: A column-vector y was passed when a 1d array was expected. Please change the shape of y to (n_samples, ), for example using ravel().\n",
            "  y = column_or_1d(y, warn=True)\n"
          ]
        },
        {
          "output_type": "stream",
          "name": "stdout",
          "text": [
            "0.9994455006337135\n",
            "0.8492000633613179\n",
            "[[4701  216]\n",
            " [ 736  660]] \n",
            "\n",
            "NT \n",
            "\n"
          ]
        },
        {
          "output_type": "stream",
          "name": "stderr",
          "text": [
            "/usr/local/lib/python3.7/dist-packages/sklearn/preprocessing/_label.py:154: DataConversionWarning: A column-vector y was passed when a 1d array was expected. Please change the shape of y to (n_samples, ), for example using ravel().\n",
            "  y = column_or_1d(y, warn=True)\n"
          ]
        },
        {
          "output_type": "stream",
          "name": "stdout",
          "text": [
            "0.99946026177304\n",
            "0.9163518618456556\n",
            "[[1516   51]\n",
            " [ 104  182]] \n",
            "\n",
            "QSL \n",
            "\n"
          ]
        },
        {
          "output_type": "stream",
          "name": "stderr",
          "text": [
            "/usr/local/lib/python3.7/dist-packages/sklearn/preprocessing/_label.py:154: DataConversionWarning: A column-vector y was passed when a 1d array was expected. Please change the shape of y to (n_samples, ), for example using ravel().\n",
            "  y = column_or_1d(y, warn=True)\n"
          ]
        },
        {
          "output_type": "stream",
          "name": "stdout",
          "text": [
            "0.9995849330704576\n",
            "0.8340248962655602\n",
            "[[1725  122]\n",
            " [ 278  285]] \n",
            "\n",
            "SA \n",
            "\n"
          ]
        },
        {
          "output_type": "stream",
          "name": "stderr",
          "text": [
            "/usr/local/lib/python3.7/dist-packages/sklearn/preprocessing/_label.py:154: DataConversionWarning: A column-vector y was passed when a 1d array was expected. Please change the shape of y to (n_samples, ), for example using ravel().\n",
            "  y = column_or_1d(y, warn=True)\n"
          ]
        },
        {
          "output_type": "stream",
          "name": "stdout",
          "text": [
            "0.999480087345326\n",
            "0.8881496881496882\n",
            "[[1878   92]\n",
            " [ 177  258]] \n",
            "\n",
            "TAS \n",
            "\n"
          ]
        },
        {
          "output_type": "stream",
          "name": "stderr",
          "text": [
            "/usr/local/lib/python3.7/dist-packages/sklearn/preprocessing/_label.py:154: DataConversionWarning: A column-vector y was passed when a 1d array was expected. Please change the shape of y to (n_samples, ), for example using ravel().\n",
            "  y = column_or_1d(y, warn=True)\n"
          ]
        },
        {
          "output_type": "stream",
          "name": "stdout",
          "text": [
            "1.0\n",
            "0.8001611603545528\n",
            "[[864  71]\n",
            " [177 129]] \n",
            "\n",
            "WA \n",
            "\n"
          ]
        },
        {
          "output_type": "stream",
          "name": "stderr",
          "text": [
            "/usr/local/lib/python3.7/dist-packages/sklearn/preprocessing/_label.py:154: DataConversionWarning: A column-vector y was passed when a 1d array was expected. Please change the shape of y to (n_samples, ), for example using ravel().\n",
            "  y = column_or_1d(y, warn=True)\n"
          ]
        },
        {
          "output_type": "stream",
          "name": "stdout",
          "text": [
            "0.9997551899725813\n",
            "0.8574505580575681\n",
            "[[3720  197]\n",
            " [ 531  659]] \n",
            "\n",
            "Summer \n",
            "\n"
          ]
        },
        {
          "output_type": "stream",
          "name": "stderr",
          "text": [
            "/usr/local/lib/python3.7/dist-packages/sklearn/preprocessing/_label.py:154: DataConversionWarning: A column-vector y was passed when a 1d array was expected. Please change the shape of y to (n_samples, ), for example using ravel().\n",
            "  y = column_or_1d(y, warn=True)\n"
          ]
        },
        {
          "output_type": "stream",
          "name": "stdout",
          "text": [
            "0.9995670245930032\n",
            "0.8649116730169726\n",
            "[[4459  183]\n",
            " [ 597  535]] \n",
            "\n",
            "Fall \n",
            "\n"
          ]
        },
        {
          "output_type": "stream",
          "name": "stderr",
          "text": [
            "/usr/local/lib/python3.7/dist-packages/sklearn/preprocessing/_label.py:154: DataConversionWarning: A column-vector y was passed when a 1d array was expected. Please change the shape of y to (n_samples, ), for example using ravel().\n",
            "  y = column_or_1d(y, warn=True)\n"
          ]
        },
        {
          "output_type": "stream",
          "name": "stdout",
          "text": [
            "0.9996049616812831\n",
            "0.8606414915468479\n",
            "[[4731  222]\n",
            " [ 660  716]] \n",
            "\n",
            "Winter \n",
            "\n"
          ]
        },
        {
          "output_type": "stream",
          "name": "stderr",
          "text": [
            "/usr/local/lib/python3.7/dist-packages/sklearn/preprocessing/_label.py:154: DataConversionWarning: A column-vector y was passed when a 1d array was expected. Please change the shape of y to (n_samples, ), for example using ravel().\n",
            "  y = column_or_1d(y, warn=True)\n"
          ]
        },
        {
          "output_type": "stream",
          "name": "stdout",
          "text": [
            "0.9996690385570081\n",
            "0.8510673506536488\n",
            "[[4166  265]\n",
            " [ 635  977]] \n",
            "\n",
            "Spring \n",
            "\n"
          ]
        },
        {
          "output_type": "stream",
          "name": "stderr",
          "text": [
            "/usr/local/lib/python3.7/dist-packages/sklearn/preprocessing/_label.py:154: DataConversionWarning: A column-vector y was passed when a 1d array was expected. Please change the shape of y to (n_samples, ), for example using ravel().\n",
            "  y = column_or_1d(y, warn=True)\n"
          ]
        },
        {
          "output_type": "stream",
          "name": "stdout",
          "text": [
            "0.9993554209101456\n",
            "0.8528704022000687\n",
            "[[4375  217]\n",
            " [ 639  587]] \n",
            "\n"
          ]
        },
        {
          "output_type": "stream",
          "name": "stderr",
          "text": [
            "/usr/local/lib/python3.7/dist-packages/sklearn/preprocessing/_label.py:154: DataConversionWarning: A column-vector y was passed when a 1d array was expected. Please change the shape of y to (n_samples, ), for example using ravel().\n",
            "  y = column_or_1d(y, warn=True)\n"
          ]
        }
      ]
    },
    {
      "cell_type": "markdown",
      "source": [
        "All of the confusion matricies and model accuracies produced by separating the data by state or season were very similar to the original confusion matrix using all available variables. So, either state and season do not strongly affect Rain Tomorrow, or, more  likely, there are too many variables leading to overfitting of the data. Maybe we should take it down a notch."
      ],
      "metadata": {
        "id": "00EC2fbgH6wL"
      }
    },
    {
      "cell_type": "markdown",
      "source": [
        "# Model Set 3: Logisitic Regression"
      ],
      "metadata": {
        "id": "-epNBUQMMJKk"
      }
    },
    {
      "cell_type": "code",
      "source": [
        "from sklearn.linear_model import LogisticRegression\n",
        "lr = LogisticRegression(random_state = 88)"
      ],
      "metadata": {
        "id": "VwnieC91N7KH"
      },
      "execution_count": null,
      "outputs": []
    },
    {
      "cell_type": "markdown",
      "source": [
        "- Daily ranges in temperature, and changes in pressure/humidity should be independent of season or location. We will start our logistic regression with these"
      ],
      "metadata": {
        "id": "lGX70CobZ389"
      }
    },
    {
      "cell_type": "code",
      "source": [
        "# grabbed maxtemp, mintemp, pressure9am/3pm, humidity9am/3pm\n",
        "X1 = df.iloc[:, [3,4,12,13,14,15]].values\n",
        "Y1 = df.iloc[:, [17]].values\n",
        "\n",
        "le = LabelEncoder()\n",
        "Y1[:,-1] = le.fit_transform(Y1[:,-1])\n",
        "\n",
        "Y1 = np.array(Y1, dtype=float)\n",
        "sc = StandardScaler()\n",
        "X1 = sc.fit_transform(X1)\n",
        "\n",
        "X1_train,X1_test,Y1_train,Y1_test = train_test_split(X1,Y1,test_size=0.15,random_state=22)\n",
        "Y1_train = Y1_train.reshape(-1,1)"
      ],
      "metadata": {
        "id": "U7L2cdheWJ45"
      },
      "execution_count": null,
      "outputs": []
    },
    {
      "cell_type": "code",
      "source": [
        "lr.fit(X1_train, Y1_train.ravel())\n",
        "Y1_predlr = lr.predict(X1_test)\n",
        "print(lr.score(X1_train, Y1_train))\n",
        "print(accuracy_score(Y1_test, Y1_predlr))"
      ],
      "metadata": {
        "id": "xPRCmqKldzWq",
        "colab": {
          "base_uri": "https://localhost:8080/"
        },
        "outputId": "a3ea8cf8-ee0d-4d38-942c-55bf4258cde6"
      },
      "execution_count": null,
      "outputs": [
        {
          "output_type": "stream",
          "name": "stdout",
          "text": [
            "0.8317524841915086\n",
            "0.8319145384743782\n"
          ]
        }
      ]
    },
    {
      "cell_type": "code",
      "source": [
        "cm = confusion_matrix(Y1_test, Y1_predlr, labels=lr.classes_)\n",
        "disp = ConfusionMatrixDisplay(confusion_matrix=cm, display_labels=lr.classes_)\n",
        "disp.plot()"
      ],
      "metadata": {
        "id": "CYgasegaknIv",
        "colab": {
          "base_uri": "https://localhost:8080/",
          "height": 297
        },
        "outputId": "6a37049c-f5aa-4b4d-dcde-af110f2e02bf"
      },
      "execution_count": null,
      "outputs": [
        {
          "output_type": "execute_result",
          "data": {
            "text/plain": [
              "<sklearn.metrics._plot.confusion_matrix.ConfusionMatrixDisplay at 0x7f8449578d10>"
            ]
          },
          "metadata": {},
          "execution_count": 130
        },
        {
          "output_type": "display_data",
          "data": {
            "text/plain": [
              "<Figure size 432x288 with 2 Axes>"
            ],
            "image/png": "[encoded data removed]"
          },
          "metadata": {
            "needs_background": "light"
          }
        }
      ]
    },
    {
      "cell_type": "code",
      "source": [
        "print(13222/(13222 + 778))\n",
        "print(1730/(1730 + 2243))"
      ],
      "metadata": {
        "id": "kYxZGPnRmf1N",
        "colab": {
          "base_uri": "https://localhost:8080/"
        },
        "outputId": "785bfaba-5a62-4563-a851-cc73e638d23a"
      },
      "execution_count": null,
      "outputs": [
        {
          "output_type": "stream",
          "name": "stdout",
          "text": [
            "0.9444285714285714\n",
            "0.43543921469921976\n"
          ]
        }
      ]
    },
    {
      "cell_type": "markdown",
      "source": [
        "While this model is not overfitted like our first model, the percent of correct \"No\" is very similar. Unforunately, the percent of correct \"Yes\" is lower by around 12%, which suggests there are other variables required to better predict rain tomorrow. We'll try percipitation (which gives us rainToday as well as data), windgustspeed/dir, and windspeed9am/3pm.  "
      ],
      "metadata": {
        "id": "0eoeAhRdoBQC"
      }
    },
    {
      "cell_type": "code",
      "source": [
        "# Add precipitation\n",
        "X2 = df.iloc[:, [3,4,5,12,13,14,15]].values\n",
        "X2 = sc.fit_transform(X2)\n",
        "\n",
        "X2_train,X2_test,Y2_train,Y2_test = train_test_split(X2,Y1,test_size=0.15,random_state=33)\n",
        "Y2_train = Y2_train.reshape(-1,1)\n",
        "\n",
        "lr.fit(X2_train, Y2_train.ravel())\n",
        "Y2_predlr = lr.predict(X2_test)\n",
        "print(lr.score(X2_train, Y2_train))\n",
        "print(accuracy_score(Y2_test, Y2_predlr))"
      ],
      "metadata": {
        "id": "5xyHbNJTngGd",
        "colab": {
          "base_uri": "https://localhost:8080/"
        },
        "outputId": "f84bca49-fe87-4c8b-8606-768202847e9b"
      },
      "execution_count": null,
      "outputs": [
        {
          "output_type": "stream",
          "name": "stdout",
          "text": [
            "0.83380464239425\n",
            "0.8349746842485951\n"
          ]
        }
      ]
    },
    {
      "cell_type": "code",
      "source": [
        "cm = confusion_matrix(Y2_test, Y2_predlr, labels=lr.classes_)\n",
        "disp = ConfusionMatrixDisplay(confusion_matrix=cm, display_labels=lr.classes_)\n",
        "disp.plot()"
      ],
      "metadata": {
        "id": "OYS9LprmvAnf",
        "colab": {
          "base_uri": "https://localhost:8080/",
          "height": 297
        },
        "outputId": "04cd68a5-3e4e-4e73-ac1f-bd72f96f894e"
      },
      "execution_count": null,
      "outputs": [
        {
          "output_type": "execute_result",
          "data": {
            "text/plain": [
              "<sklearn.metrics._plot.confusion_matrix.ConfusionMatrixDisplay at 0x7f8449583ed0>"
            ]
          },
          "metadata": {},
          "execution_count": 133
        },
        {
          "output_type": "display_data",
          "data": {
            "text/plain": [
              "<Figure size 432x288 with 2 Axes>"
            ],
            "image/png": "[encoded data removed]"
          },
          "metadata": {
            "needs_background": "light"
          }
        }
      ]
    },
    {
      "cell_type": "code",
      "source": [
        "print(13222/(13222 + 717))\n",
        "print(1784/(1784 + 2249))"
      ],
      "metadata": {
        "id": "r_QlNTZgvK6g",
        "colab": {
          "base_uri": "https://localhost:8080/"
        },
        "outputId": "12f71ae8-290f-4b99-ff3f-15c2f5d95951"
      },
      "execution_count": null,
      "outputs": [
        {
          "output_type": "stream",
          "name": "stdout",
          "text": [
            "0.9485615897840591\n",
            "0.4423506074882222\n"
          ]
        }
      ]
    },
    {
      "cell_type": "code",
      "source": [
        "# Add gust direction and speed\n",
        "X3 = df.iloc[:, [3,4,6,7,12,13,14,15]].values\n",
        "X3 = sc.fit_transform(X3)\n",
        "\n",
        "X3_train,X3_test,Y3_train,Y3_test = train_test_split(X3,Y1,test_size=0.15,random_state=44)\n",
        "Y3_train = Y3_train.reshape(-1,1)\n",
        "\n",
        "lr.fit(X3_train, Y3_train.ravel())\n",
        "Y3_predlr = lr.predict(X3_test)\n",
        "print(lr.score(X3_train, Y3_train))\n",
        "print(accuracy_score(Y3_test, Y3_predlr))"
      ],
      "metadata": {
        "id": "LQXeMZbCvWdV",
        "colab": {
          "base_uri": "https://localhost:8080/"
        },
        "outputId": "94025cf9-3f6d-4c55-a581-4c6033cd0a9e"
      },
      "execution_count": null,
      "outputs": [
        {
          "output_type": "stream",
          "name": "stdout",
          "text": [
            "0.8394014374926358\n",
            "0.8371446057975853\n"
          ]
        }
      ]
    },
    {
      "cell_type": "code",
      "source": [
        "cm = confusion_matrix(Y3_test, Y3_predlr, labels=lr.classes_)\n",
        "disp = ConfusionMatrixDisplay(confusion_matrix=cm, display_labels=lr.classes_)\n",
        "disp.plot()"
      ],
      "metadata": {
        "id": "eDZBACqzwGE7",
        "colab": {
          "base_uri": "https://localhost:8080/",
          "height": 297
        },
        "outputId": "e9d5a764-9dee-40da-f632-c2f64522a0ad"
      },
      "execution_count": null,
      "outputs": [
        {
          "output_type": "execute_result",
          "data": {
            "text/plain": [
              "<sklearn.metrics._plot.confusion_matrix.ConfusionMatrixDisplay at 0x7f844d5b4f50>"
            ]
          },
          "metadata": {},
          "execution_count": 136
        },
        {
          "output_type": "display_data",
          "data": {
            "text/plain": [
              "<Figure size 432x288 with 2 Axes>"
            ],
            "image/png": "[encoded data removed]"
          },
          "metadata": {
            "needs_background": "light"
          }
        }
      ]
    },
    {
      "cell_type": "code",
      "source": [
        "print(13169/(13169 + 716))\n",
        "print(1877/(1877+2211))"
      ],
      "metadata": {
        "id": "Krd-Z5DTwPbE",
        "colab": {
          "base_uri": "https://localhost:8080/"
        },
        "outputId": "e8fa27d2-a855-47f3-e12a-fc2c4fe62e93"
      },
      "execution_count": null,
      "outputs": [
        {
          "output_type": "stream",
          "name": "stdout",
          "text": [
            "0.9484335613971913\n",
            "0.4591487279843444\n"
          ]
        }
      ]
    },
    {
      "cell_type": "code",
      "source": [
        "# Add wind speed 9am/3pm\n",
        "X4 = df.iloc[:, [3,4,6,11,12,13,14,15]].values\n",
        "X4 = sc.fit_transform(X4)\n",
        "\n",
        "X4_train,X4_test,Y4_train,Y4_test = train_test_split(X4,Y1,test_size=0.15,random_state=55)\n",
        "Y4_train = Y4_train.reshape(-1,1)\n",
        "\n",
        "lr.fit(X4_train, Y4_train.ravel())\n",
        "Y4_predlr = lr.predict(X4_test)\n",
        "print(lr.score(X4_train, Y4_train))\n",
        "print(accuracy_score(Y4_test, Y4_predlr))"
      ],
      "metadata": {
        "id": "l7w22cf8wZWH",
        "colab": {
          "base_uri": "https://localhost:8080/"
        },
        "outputId": "7ff88157-04b4-4b82-d542-66863eba152f"
      },
      "execution_count": null,
      "outputs": [
        {
          "output_type": "stream",
          "name": "stdout",
          "text": [
            "0.8323907152115\n",
            "0.829744616925388\n"
          ]
        }
      ]
    },
    {
      "cell_type": "code",
      "source": [
        "cm = confusion_matrix(Y4_test, Y4_predlr, labels=lr.classes_)\n",
        "disp = ConfusionMatrixDisplay(confusion_matrix=cm, display_labels=lr.classes_)\n",
        "disp.plot()"
      ],
      "metadata": {
        "id": "k61PlXY0xp6Y",
        "colab": {
          "base_uri": "https://localhost:8080/",
          "height": 297
        },
        "outputId": "6c146261-49b2-4f81-c13f-301e05832be1"
      },
      "execution_count": null,
      "outputs": [
        {
          "output_type": "execute_result",
          "data": {
            "text/plain": [
              "<sklearn.metrics._plot.confusion_matrix.ConfusionMatrixDisplay at 0x7f844872f4d0>"
            ]
          },
          "metadata": {},
          "execution_count": 139
        },
        {
          "output_type": "display_data",
          "data": {
            "text/plain": [
              "<Figure size 432x288 with 2 Axes>"
            ],
            "image/png": "[encoded data removed]"
          },
          "metadata": {
            "needs_background": "light"
          }
        }
      ]
    },
    {
      "cell_type": "code",
      "source": [
        "print(13160/(13160 + 793))\n",
        "print(1753/(1753+2267))"
      ],
      "metadata": {
        "id": "i23RHhrkxxzG",
        "colab": {
          "base_uri": "https://localhost:8080/"
        },
        "outputId": "b65770d7-e6fd-42f1-d1f6-3c7151f8e5d7"
      },
      "execution_count": null,
      "outputs": [
        {
          "output_type": "stream",
          "name": "stdout",
          "text": [
            "0.9431663441553788\n",
            "0.43606965174129353\n"
          ]
        }
      ]
    },
    {
      "cell_type": "code",
      "source": [
        "# Try state?\n",
        "X5 = df.iloc[:, [1,3,4,6,13,14,15]].values\n",
        "le2 = LabelEncoder()\n",
        "X5[:,0] = le.fit_transform(X5[:,0])\n",
        "X5 = sc.fit_transform(X5)\n",
        "\n",
        "X5_train,X5_test,Y5_train,Y5_test = train_test_split(X5,Y1,test_size=0.15,random_state=66)\n",
        "Y5_train = Y5_train.reshape(-1,1)\n",
        "\n",
        "lr.fit(X5_train, Y5_train.ravel())\n",
        "Y5_predlr = lr.predict(X5_test)\n",
        "print(lr.score(X5_train, Y5_train))\n",
        "print(accuracy_score(Y5_test, Y5_predlr))"
      ],
      "metadata": {
        "id": "B6GYVdDgyMUv",
        "colab": {
          "base_uri": "https://localhost:8080/"
        },
        "outputId": "8485fc51-8d31-41f5-e06a-1789b1793387"
      },
      "execution_count": null,
      "outputs": [
        {
          "output_type": "stream",
          "name": "stdout",
          "text": [
            "0.8333333333333334\n",
            "0.8304122850943081\n"
          ]
        }
      ]
    },
    {
      "cell_type": "code",
      "source": [
        "cm = confusion_matrix(Y5_test, Y5_predlr, labels=lr.classes_)\n",
        "disp = ConfusionMatrixDisplay(confusion_matrix=cm, display_labels=lr.classes_)\n",
        "disp.plot()"
      ],
      "metadata": {
        "id": "eNl7PqG9zeZL",
        "colab": {
          "base_uri": "https://localhost:8080/",
          "height": 297
        },
        "outputId": "f871a391-51c8-490b-f5d9-0d5e4569ec0d"
      },
      "execution_count": null,
      "outputs": [
        {
          "output_type": "execute_result",
          "data": {
            "text/plain": [
              "<sklearn.metrics._plot.confusion_matrix.ConfusionMatrixDisplay at 0x7f844d592710>"
            ]
          },
          "metadata": {},
          "execution_count": 142
        },
        {
          "output_type": "display_data",
          "data": {
            "text/plain": [
              "<Figure size 432x288 with 2 Axes>"
            ],
            "image/png": "[encoded data removed]"
          },
          "metadata": {
            "needs_background": "light"
          }
        }
      ]
    },
    {
      "cell_type": "code",
      "source": [
        "# Add season?\n",
        "X6 = df.iloc[:, [3,4,6,13,14,15,18]].values\n",
        "X6 = sc.fit_transform(X6)\n",
        "\n",
        "X6_train,X6_test,Y6_train,Y6_test = train_test_split(X6,Y1,test_size=0.15,random_state=77)\n",
        "Y6_train = Y6_train.reshape(-1,1)\n",
        "\n",
        "lr.fit(X6_train, Y6_train.ravel())\n",
        "Y6_predlr = lr.predict(X6_test)\n",
        "print(lr.score(X6_train, Y6_train))\n",
        "print(accuracy_score(Y6_test, Y6_predlr))"
      ],
      "metadata": {
        "id": "VsB8bw4lz8dd",
        "colab": {
          "base_uri": "https://localhost:8080/"
        },
        "outputId": "1435e8e0-de8d-4204-cfba-32b39fb619a1"
      },
      "execution_count": null,
      "outputs": [
        {
          "output_type": "stream",
          "name": "stdout",
          "text": [
            "0.8325281803542673\n",
            "0.8331942357981417\n"
          ]
        }
      ]
    },
    {
      "cell_type": "code",
      "source": [
        "cm = confusion_matrix(Y6_test, Y6_predlr, labels=lr.classes_)\n",
        "disp = ConfusionMatrixDisplay(confusion_matrix=cm, display_labels=lr.classes_)\n",
        "disp.plot()"
      ],
      "metadata": {
        "id": "u0CBIbfp0e6s",
        "colab": {
          "base_uri": "https://localhost:8080/",
          "height": 297
        },
        "outputId": "1371fd1c-fd23-4992-baaa-ed2e2f7da1ca"
      },
      "execution_count": null,
      "outputs": [
        {
          "output_type": "execute_result",
          "data": {
            "text/plain": [
              "<sklearn.metrics._plot.confusion_matrix.ConfusionMatrixDisplay at 0x7f8448ba5750>"
            ]
          },
          "metadata": {},
          "execution_count": 144
        },
        {
          "output_type": "display_data",
          "data": {
            "text/plain": [
              "<Figure size 432x288 with 2 Axes>"
            ],
            "image/png": "[encoded data removed]"
          },
          "metadata": {
            "needs_background": "light"
          }
        }
      ]
    },
    {
      "cell_type": "markdown",
      "source": [
        "None of these variables have a significant impact on the accuracy of the base logistic model on predicting yes correctly. Separating the data by raining today may show a difference."
      ],
      "metadata": {
        "id": "0m3kX_VH0_YL"
      }
    },
    {
      "cell_type": "code",
      "source": [
        "rainingToday = df[df['RainToday'] == 'Yes']\n",
        "notRainingToday = df[df['RainToday'] == 'No']"
      ],
      "metadata": {
        "id": "gTUAx8ti06kX"
      },
      "execution_count": null,
      "outputs": []
    },
    {
      "cell_type": "code",
      "source": [
        "#When its raining today\n",
        "X7 = rainingToday.iloc[:, [3,4,12,13,14,15]].values\n",
        "Y7 = rainingToday.iloc[:, [17]].values\n",
        "\n",
        "Y7[:,-1] = le.fit_transform(Y7[:,-1])\n",
        "\n",
        "Y7 = np.array(Y7, dtype=float)\n",
        "X7 = sc.fit_transform(X7)\n",
        "\n",
        "X7_train,X7_test,Y7_train,Y7_test = train_test_split(X7,Y7,test_size=0.15,random_state=88)\n",
        "Y7_train = Y7_train.reshape(-1,1)"
      ],
      "metadata": {
        "id": "eMb6JyfQA_yu"
      },
      "execution_count": null,
      "outputs": []
    },
    {
      "cell_type": "code",
      "source": [
        "lr.fit(X7_train, Y7_train.ravel())\n",
        "Y7_predlr = lr.predict(X7_test)\n",
        "print(lr.score(X7_train, Y7_train))\n",
        "print(accuracy_score(Y7_test, Y7_predlr))"
      ],
      "metadata": {
        "id": "TwTZHKkhCHaT",
        "colab": {
          "base_uri": "https://localhost:8080/"
        },
        "outputId": "780d727a-6a63-45e0-ef19-64161e0b310c"
      },
      "execution_count": null,
      "outputs": [
        {
          "output_type": "stream",
          "name": "stdout",
          "text": [
            "0.7286652078774617\n",
            "0.7267542772129928\n"
          ]
        }
      ]
    },
    {
      "cell_type": "code",
      "source": [
        "cm = confusion_matrix(Y7_test, Y7_predlr, labels=lr.classes_)\n",
        "disp = ConfusionMatrixDisplay(confusion_matrix=cm, display_labels=lr.classes_)\n",
        "disp.plot()"
      ],
      "metadata": {
        "id": "mn4TKz9UCUyY",
        "colab": {
          "base_uri": "https://localhost:8080/",
          "height": 297
        },
        "outputId": "b33a606a-c4d8-44d2-a1e9-c24be874b2e8"
      },
      "execution_count": null,
      "outputs": [
        {
          "output_type": "execute_result",
          "data": {
            "text/plain": [
              "<sklearn.metrics._plot.confusion_matrix.ConfusionMatrixDisplay at 0x7f8449a89510>"
            ]
          },
          "metadata": {},
          "execution_count": 148
        },
        {
          "output_type": "display_data",
          "data": {
            "text/plain": [
              "<Figure size 432x288 with 2 Axes>"
            ],
            "image/png": "[encoded data removed]"
          },
          "metadata": {
            "needs_background": "light"
          }
        }
      ]
    },
    {
      "cell_type": "code",
      "source": [
        "print(1661/(461+1661))\n",
        "print(1270/(641+1270))"
      ],
      "metadata": {
        "id": "-rkKtux0Cq5j",
        "colab": {
          "base_uri": "https://localhost:8080/"
        },
        "outputId": "b651a50f-43ec-457b-aa4c-9a655f62b8f5"
      },
      "execution_count": null,
      "outputs": [
        {
          "output_type": "stream",
          "name": "stdout",
          "text": [
            "0.7827521206409048\n",
            "0.6645735217163788\n"
          ]
        }
      ]
    },
    {
      "cell_type": "markdown",
      "source": [
        "- The model can accurately predict if it will rain tommorrow 2/3 of the time if it rains today! Thats better than half!"
      ],
      "metadata": {
        "id": "_UJRqF-1fT7t"
      }
    },
    {
      "cell_type": "code",
      "source": [
        "X8 = notRainingToday.iloc[:, [3,4,12,13,14,15]].values\n",
        "Y8 = notRainingToday.iloc[:, [17]].values\n",
        "\n",
        "Y8[:,-1] = le.fit_transform(Y8[:,-1])\n",
        "\n",
        "Y8 = np.array(Y8, dtype=float)\n",
        "X8 = sc.fit_transform(X8)\n",
        "\n",
        "X8_train,X8_test,Y8_train,Y8_test = train_test_split(X8,Y8,test_size=0.15,random_state=11)\n",
        "Y8_train = Y8_train.reshape(-1,1)\n",
        "lr.fit(X8_train, Y8_train.ravel())\n",
        "Y8_predlr = lr.predict(X8_test)\n",
        "print(lr.score(X8_train, Y8_train))\n",
        "print(accuracy_score(Y8_test, Y8_predlr))"
      ],
      "metadata": {
        "id": "6ipwn7GeC8FT",
        "colab": {
          "base_uri": "https://localhost:8080/"
        },
        "outputId": "d3e5dbfc-7881-4ee3-cc60-5e2dcecfe8a5"
      },
      "execution_count": null,
      "outputs": [
        {
          "output_type": "stream",
          "name": "stdout",
          "text": [
            "0.865962806830985\n",
            "0.8677282834803816\n"
          ]
        }
      ]
    },
    {
      "cell_type": "code",
      "source": [
        "cm = confusion_matrix(Y8_test, Y8_predlr, labels=lr.classes_)\n",
        "disp = ConfusionMatrixDisplay(confusion_matrix=cm, display_labels=lr.classes_)\n",
        "disp.plot()"
      ],
      "metadata": {
        "id": "1pSenOY5DmeH",
        "colab": {
          "base_uri": "https://localhost:8080/",
          "height": 297
        },
        "outputId": "d3418dcb-a9ed-4ca5-e1cc-e10befdc103a"
      },
      "execution_count": null,
      "outputs": [
        {
          "output_type": "execute_result",
          "data": {
            "text/plain": [
              "<sklearn.metrics._plot.confusion_matrix.ConfusionMatrixDisplay at 0x7f8448a7cd10>"
            ]
          },
          "metadata": {},
          "execution_count": 151
        },
        {
          "output_type": "display_data",
          "data": {
            "text/plain": [
              "<Figure size 432x288 with 2 Axes>"
            ],
            "image/png": "[encoded data removed]"
          },
          "metadata": {
            "needs_background": "light"
          }
        }
      ]
    },
    {
      "cell_type": "code",
      "source": [
        "print(11554/(11554+268))\n",
        "print(543/(1576+543))"
      ],
      "metadata": {
        "id": "qUnwsENyEGkS",
        "colab": {
          "base_uri": "https://localhost:8080/"
        },
        "outputId": "a9233660-19e5-463d-f6ef-37b214f1a1db"
      },
      "execution_count": null,
      "outputs": [
        {
          "output_type": "stream",
          "name": "stdout",
          "text": [
            "0.9773304009473862\n",
            "0.25625294950448324\n"
          ]
        }
      ]
    },
    {
      "cell_type": "markdown",
      "source": [
        "- The model is much better at predicting rain tomorrow if it rained today, it actually appears as this is the largest error the model creates.  Unfortunately, it doesn't rain much more often than it does. How can we fix this?"
      ],
      "metadata": {
        "id": "VDj7B06XEjFe"
      }
    },
    {
      "cell_type": "markdown",
      "source": [
        "#Idea: Add Columns That Count Days Since Last Rain And Days Of Consistent Rain\n",
        "- perhaps having a higher number in either category will make the model more likely to predict tomorrow to either start or stop raining"
      ],
      "metadata": {
        "id": "x8Mh8oPpFmUV"
      }
    },
    {
      "cell_type": "code",
      "source": [
        "SinceLastRain = []\n",
        "ConsistentRain = []\n",
        "\n",
        "for city in df.Location.unique():\n",
        "  tempDF = df[df['Location'] == city]\n",
        "  tempDF = tempDF.reset_index(drop=True)\n",
        "  nocount = 0\n",
        "  yescount = 0\n",
        "\n",
        "  for i in range(tempDF.shape[0]):\n",
        "    nocount +=1\n",
        "    yescount +=1\n",
        "    if tempDF.loc[i,'RainToday'] == \"No\":\n",
        "      yescount = 0\n",
        "    elif tempDF.loc[i,'RainToday'] == \"Yes\":\n",
        "      nocount = 0\n",
        "    SinceLastRain.append(nocount)\n",
        "    ConsistentRain.append(yescount)\n",
        "\n",
        "df['SinceLastRain'] = SinceLastRain\n",
        "df['ConsistentRain'] = ConsistentRain\n"
      ],
      "metadata": {
        "id": "VCtP3hRUGoA3"
      },
      "execution_count": null,
      "outputs": []
    },
    {
      "cell_type": "code",
      "source": [
        "df"
      ],
      "metadata": {
        "id": "Dtn9gjpOXeOg",
        "colab": {
          "base_uri": "https://localhost:8080/",
          "height": 488
        },
        "outputId": "6105acf1-3f37-4a82-e902-856f1814393b"
      },
      "execution_count": null,
      "outputs": [
        {
          "output_type": "execute_result",
          "data": {
            "text/plain": [
              "             Date State Location  MinTemp  MaxTemp  Rainfall  WindGustDir  \\\n",
              "0      2008-12-01   NSW   Albury     13.4     22.9       0.6        270.0   \n",
              "1      2008-12-02   NSW   Albury      7.4     25.1       0.0        292.5   \n",
              "2      2008-12-03   NSW   Albury     12.9     25.7       0.0        247.5   \n",
              "3      2008-12-04   NSW   Albury      9.2     28.0       0.0         45.0   \n",
              "4      2008-12-05   NSW   Albury     17.5     32.3       1.0        270.0   \n",
              "...           ...   ...      ...      ...      ...       ...          ...   \n",
              "119812 2017-06-20    NT    Uluru      3.5     21.8       0.0         90.0   \n",
              "119813 2017-06-21    NT    Uluru      2.8     23.4       0.0         90.0   \n",
              "119814 2017-06-22    NT    Uluru      3.6     25.3       0.0        337.5   \n",
              "119815 2017-06-23    NT    Uluru      5.4     26.9       0.0          0.0   \n",
              "119816 2017-06-24    NT    Uluru      7.8     27.0       0.0        135.0   \n",
              "\n",
              "        WindGustSpeed  WindDir9am  WindDir3pm  ...  WindSpeed3pm  Humidity9am  \\\n",
              "0                44.0       270.0       292.5  ...          24.0         71.0   \n",
              "1                44.0       337.5       247.5  ...          22.0         44.0   \n",
              "2                46.0       270.0       247.5  ...          26.0         38.0   \n",
              "3                24.0       135.0        90.0  ...           9.0         45.0   \n",
              "4                41.0        67.5       315.0  ...          20.0         82.0   \n",
              "...               ...         ...         ...  ...           ...          ...   \n",
              "119812           31.0       112.5        90.0  ...          13.0         59.0   \n",
              "119813           31.0       135.0        67.5  ...          11.0         51.0   \n",
              "119814           22.0       135.0         0.0  ...           9.0         56.0   \n",
              "119815           37.0       135.0       292.5  ...           9.0         53.0   \n",
              "119816           28.0       157.5         0.0  ...           7.0         51.0   \n",
              "\n",
              "        Humidity3pm  Pressure9am  Pressure3pm  RainToday RainTomorrow Seasons  \\\n",
              "0              22.0       1007.7       1007.1         No            0       0   \n",
              "1              25.0       1010.6       1007.8         No            0       0   \n",
              "2              30.0       1007.6       1008.7         No            0       0   \n",
              "3              16.0       1017.6       1012.8         No            0       0   \n",
              "4              33.0       1010.8       1006.0         No            0       0   \n",
              "...             ...          ...          ...        ...          ...     ...   \n",
              "119812         27.0       1024.7       1021.2         No            0       2   \n",
              "119813         24.0       1024.6       1020.3         No            0       2   \n",
              "119814         21.0       1023.5       1019.1         No            0       2   \n",
              "119815         24.0       1021.0       1016.8         No            0       2   \n",
              "119816         24.0       1019.4       1016.5         No            0       2   \n",
              "\n",
              "        SinceLastRain  ConsistentRain  \n",
              "0                   1               0  \n",
              "1                   2               0  \n",
              "2                   3               0  \n",
              "3                   4               0  \n",
              "4                   5               0  \n",
              "...               ...             ...  \n",
              "119812             60               0  \n",
              "119813             61               0  \n",
              "119814             62               0  \n",
              "119815             63               0  \n",
              "119816             64               0  \n",
              "\n",
              "[119817 rows x 21 columns]"
            ],
            "text/html": [
              "\n",
              "  <div id=\"df-1a721384-2d82-4858-a175-dbfd30a4ae93\">\n",
              "    <div class=\"colab-df-container\">\n",
              "      <div>\n",
              "<style scoped>\n",
              "    .dataframe tbody tr th:only-of-type {\n",
              "        vertical-align: middle;\n",
              "    }\n",
              "\n",
              "    .dataframe tbody tr th {\n",
              "        vertical-align: top;\n",
              "    }\n",
              "\n",
              "    .dataframe thead th {\n",
              "        text-align: right;\n",
              "    }\n",
              "</style>\n",
              "<table border=\"1\" class=\"dataframe\">\n",
              "  <thead>\n",
              "    <tr style=\"text-align: right;\">\n",
              "      <th></th>\n",
              "      <th>Date</th>\n",
              "      <th>State</th>\n",
              "      <th>Location</th>\n",
              "      <th>MinTemp</th>\n",
              "      <th>MaxTemp</th>\n",
              "      <th>Rainfall</th>\n",
              "      <th>WindGustDir</th>\n",
              "      <th>WindGustSpeed</th>\n",
              "      <th>WindDir9am</th>\n",
              "      <th>WindDir3pm</th>\n",
              "      <th>...</th>\n",
              "      <th>WindSpeed3pm</th>\n",
              "      <th>Humidity9am</th>\n",
              "      <th>Humidity3pm</th>\n",
              "      <th>Pressure9am</th>\n",
              "      <th>Pressure3pm</th>\n",
              "      <th>RainToday</th>\n",
              "      <th>RainTomorrow</th>\n",
              "      <th>Seasons</th>\n",
              "      <th>SinceLastRain</th>\n",
              "      <th>ConsistentRain</th>\n",
              "    </tr>\n",
              "  </thead>\n",
              "  <tbody>\n",
              "    <tr>\n",
              "      <th>0</th>\n",
              "      <td>2008-12-01</td>\n",
              "      <td>NSW</td>\n",
              "      <td>Albury</td>\n",
              "      <td>13.4</td>\n",
              "      <td>22.9</td>\n",
              "      <td>0.6</td>\n",
              "      <td>270.0</td>\n",
              "      <td>44.0</td>\n",
              "      <td>270.0</td>\n",
              "      <td>292.5</td>\n",
              "      <td>...</td>\n",
              "      <td>24.0</td>\n",
              "      <td>71.0</td>\n",
              "      <td>22.0</td>\n",
              "      <td>1007.7</td>\n",
              "      <td>1007.1</td>\n",
              "      <td>No</td>\n",
              "      <td>0</td>\n",
              "      <td>0</td>\n",
              "      <td>1</td>\n",
              "      <td>0</td>\n",
              "    </tr>\n",
              "    <tr>\n",
              "      <th>1</th>\n",
              "      <td>2008-12-02</td>\n",
              "      <td>NSW</td>\n",
              "      <td>Albury</td>\n",
              "      <td>7.4</td>\n",
              "      <td>25.1</td>\n",
              "      <td>0.0</td>\n",
              "      <td>292.5</td>\n",
              "      <td>44.0</td>\n",
              "      <td>337.5</td>\n",
              "      <td>247.5</td>\n",
              "      <td>...</td>\n",
              "      <td>22.0</td>\n",
              "      <td>44.0</td>\n",
              "      <td>25.0</td>\n",
              "      <td>1010.6</td>\n",
              "      <td>1007.8</td>\n",
              "      <td>No</td>\n",
              "      <td>0</td>\n",
              "      <td>0</td>\n",
              "      <td>2</td>\n",
              "      <td>0</td>\n",
              "    </tr>\n",
              "    <tr>\n",
              "      <th>2</th>\n",
              "      <td>2008-12-03</td>\n",
              "      <td>NSW</td>\n",
              "      <td>Albury</td>\n",
              "      <td>12.9</td>\n",
              "      <td>25.7</td>\n",
              "      <td>0.0</td>\n",
              "      <td>247.5</td>\n",
              "      <td>46.0</td>\n",
              "      <td>270.0</td>\n",
              "      <td>247.5</td>\n",
              "      <td>...</td>\n",
              "      <td>26.0</td>\n",
              "      <td>38.0</td>\n",
              "      <td>30.0</td>\n",
              "      <td>1007.6</td>\n",
              "      <td>1008.7</td>\n",
              "      <td>No</td>\n",
              "      <td>0</td>\n",
              "      <td>0</td>\n",
              "      <td>3</td>\n",
              "      <td>0</td>\n",
              "    </tr>\n",
              "    <tr>\n",
              "      <th>3</th>\n",
              "      <td>2008-12-04</td>\n",
              "      <td>NSW</td>\n",
              "      <td>Albury</td>\n",
              "      <td>9.2</td>\n",
              "      <td>28.0</td>\n",
              "      <td>0.0</td>\n",
              "      <td>45.0</td>\n",
              "      <td>24.0</td>\n",
              "      <td>135.0</td>\n",
              "      <td>90.0</td>\n",
              "      <td>...</td>\n",
              "      <td>9.0</td>\n",
              "      <td>45.0</td>\n",
              "      <td>16.0</td>\n",
              "      <td>1017.6</td>\n",
              "      <td>1012.8</td>\n",
              "      <td>No</td>\n",
              "      <td>0</td>\n",
              "      <td>0</td>\n",
              "      <td>4</td>\n",
              "      <td>0</td>\n",
              "    </tr>\n",
              "    <tr>\n",
              "      <th>4</th>\n",
              "      <td>2008-12-05</td>\n",
              "      <td>NSW</td>\n",
              "      <td>Albury</td>\n",
              "      <td>17.5</td>\n",
              "      <td>32.3</td>\n",
              "      <td>1.0</td>\n",
              "      <td>270.0</td>\n",
              "      <td>41.0</td>\n",
              "      <td>67.5</td>\n",
              "      <td>315.0</td>\n",
              "      <td>...</td>\n",
              "      <td>20.0</td>\n",
              "      <td>82.0</td>\n",
              "      <td>33.0</td>\n",
              "      <td>1010.8</td>\n",
              "      <td>1006.0</td>\n",
              "      <td>No</td>\n",
              "      <td>0</td>\n",
              "      <td>0</td>\n",
              "      <td>5</td>\n",
              "      <td>0</td>\n",
              "    </tr>\n",
              "    <tr>\n",
              "      <th>...</th>\n",
              "      <td>...</td>\n",
              "      <td>...</td>\n",
              "      <td>...</td>\n",
              "      <td>...</td>\n",
              "      <td>...</td>\n",
              "      <td>...</td>\n",
              "      <td>...</td>\n",
              "      <td>...</td>\n",
              "      <td>...</td>\n",
              "      <td>...</td>\n",
              "      <td>...</td>\n",
              "      <td>...</td>\n",
              "      <td>...</td>\n",
              "      <td>...</td>\n",
              "      <td>...</td>\n",
              "      <td>...</td>\n",
              "      <td>...</td>\n",
              "      <td>...</td>\n",
              "      <td>...</td>\n",
              "      <td>...</td>\n",
              "      <td>...</td>\n",
              "    </tr>\n",
              "    <tr>\n",
              "      <th>119812</th>\n",
              "      <td>2017-06-20</td>\n",
              "      <td>NT</td>\n",
              "      <td>Uluru</td>\n",
              "      <td>3.5</td>\n",
              "      <td>21.8</td>\n",
              "      <td>0.0</td>\n",
              "      <td>90.0</td>\n",
              "      <td>31.0</td>\n",
              "      <td>112.5</td>\n",
              "      <td>90.0</td>\n",
              "      <td>...</td>\n",
              "      <td>13.0</td>\n",
              "      <td>59.0</td>\n",
              "      <td>27.0</td>\n",
              "      <td>1024.7</td>\n",
              "      <td>1021.2</td>\n",
              "      <td>No</td>\n",
              "      <td>0</td>\n",
              "      <td>2</td>\n",
              "      <td>60</td>\n",
              "      <td>0</td>\n",
              "    </tr>\n",
              "    <tr>\n",
              "      <th>119813</th>\n",
              "      <td>2017-06-21</td>\n",
              "      <td>NT</td>\n",
              "      <td>Uluru</td>\n",
              "      <td>2.8</td>\n",
              "      <td>23.4</td>\n",
              "      <td>0.0</td>\n",
              "      <td>90.0</td>\n",
              "      <td>31.0</td>\n",
              "      <td>135.0</td>\n",
              "      <td>67.5</td>\n",
              "      <td>...</td>\n",
              "      <td>11.0</td>\n",
              "      <td>51.0</td>\n",
              "      <td>24.0</td>\n",
              "      <td>1024.6</td>\n",
              "      <td>1020.3</td>\n",
              "      <td>No</td>\n",
              "      <td>0</td>\n",
              "      <td>2</td>\n",
              "      <td>61</td>\n",
              "      <td>0</td>\n",
              "    </tr>\n",
              "    <tr>\n",
              "      <th>119814</th>\n",
              "      <td>2017-06-22</td>\n",
              "      <td>NT</td>\n",
              "      <td>Uluru</td>\n",
              "      <td>3.6</td>\n",
              "      <td>25.3</td>\n",
              "      <td>0.0</td>\n",
              "      <td>337.5</td>\n",
              "      <td>22.0</td>\n",
              "      <td>135.0</td>\n",
              "      <td>0.0</td>\n",
              "      <td>...</td>\n",
              "      <td>9.0</td>\n",
              "      <td>56.0</td>\n",
              "      <td>21.0</td>\n",
              "      <td>1023.5</td>\n",
              "      <td>1019.1</td>\n",
              "      <td>No</td>\n",
              "      <td>0</td>\n",
              "      <td>2</td>\n",
              "      <td>62</td>\n",
              "      <td>0</td>\n",
              "    </tr>\n",
              "    <tr>\n",
              "      <th>119815</th>\n",
              "      <td>2017-06-23</td>\n",
              "      <td>NT</td>\n",
              "      <td>Uluru</td>\n",
              "      <td>5.4</td>\n",
              "      <td>26.9</td>\n",
              "      <td>0.0</td>\n",
              "      <td>0.0</td>\n",
              "      <td>37.0</td>\n",
              "      <td>135.0</td>\n",
              "      <td>292.5</td>\n",
              "      <td>...</td>\n",
              "      <td>9.0</td>\n",
              "      <td>53.0</td>\n",
              "      <td>24.0</td>\n",
              "      <td>1021.0</td>\n",
              "      <td>1016.8</td>\n",
              "      <td>No</td>\n",
              "      <td>0</td>\n",
              "      <td>2</td>\n",
              "      <td>63</td>\n",
              "      <td>0</td>\n",
              "    </tr>\n",
              "    <tr>\n",
              "      <th>119816</th>\n",
              "      <td>2017-06-24</td>\n",
              "      <td>NT</td>\n",
              "      <td>Uluru</td>\n",
              "      <td>7.8</td>\n",
              "      <td>27.0</td>\n",
              "      <td>0.0</td>\n",
              "      <td>135.0</td>\n",
              "      <td>28.0</td>\n",
              "      <td>157.5</td>\n",
              "      <td>0.0</td>\n",
              "      <td>...</td>\n",
              "      <td>7.0</td>\n",
              "      <td>51.0</td>\n",
              "      <td>24.0</td>\n",
              "      <td>1019.4</td>\n",
              "      <td>1016.5</td>\n",
              "      <td>No</td>\n",
              "      <td>0</td>\n",
              "      <td>2</td>\n",
              "      <td>64</td>\n",
              "      <td>0</td>\n",
              "    </tr>\n",
              "  </tbody>\n",
              "</table>\n",
              "<p>119817 rows × 21 columns</p>\n",
              "</div>\n",
              "      <button class=\"colab-df-convert\" onclick=\"convertToInteractive('df-1a721384-2d82-4858-a175-dbfd30a4ae93')\"\n",
              "              title=\"Convert this dataframe to an interactive table.\"\n",
              "              style=\"display:none;\">\n",
              "        \n",
              "  <svg xmlns=\"http://www.w3.org/2000/svg\" height=\"24px\"viewBox=\"0 0 24 24\"\n",
              "       width=\"24px\">\n",
              "    <path d=\"M0 0h24v24H0V0z\" fill=\"none\"/>\n",
              "    <path d=\"M18.56 5.44l.94 2.06.94-2.06 2.06-.94-2.06-.94-.94-2.06-.94 2.06-2.06.94zm-11 1L8.5 8.5l.94-2.06 2.06-.94-2.06-.94L8.5 2.5l-.94 2.06-2.06.94zm10 10l.94 2.06.94-2.06 2.06-.94-2.06-.94-.94-2.06-.94 2.06-2.06.94z\"/><path d=\"M17.41 7.96l-1.37-1.37c-.4-.4-.92-.59-1.43-.59-.52 0-1.04.2-1.43.59L10.3 9.45l-7.72 7.72c-.78.78-.78 2.05 0 2.83L4 21.41c.39.39.9.59 1.41.59.51 0 1.02-.2 1.41-.59l7.78-7.78 2.81-2.81c.8-.78.8-2.07 0-2.86zM5.41 20L4 18.59l7.72-7.72 1.47 1.35L5.41 20z\"/>\n",
              "  </svg>\n",
              "      </button>\n",
              "      \n",
              "  <style>\n",
              "    .colab-df-container {\n",
              "      display:flex;\n",
              "      flex-wrap:wrap;\n",
              "      gap: 12px;\n",
              "    }\n",
              "\n",
              "    .colab-df-convert {\n",
              "      background-color: #E8F0FE;\n",
              "      border: none;\n",
              "      border-radius: 50%;\n",
              "      cursor: pointer;\n",
              "      display: none;\n",
              "      fill: #1967D2;\n",
              "      height: 32px;\n",
              "      padding: 0 0 0 0;\n",
              "      width: 32px;\n",
              "    }\n",
              "\n",
              "    .colab-df-convert:hover {\n",
              "      background-color: #E2EBFA;\n",
              "      box-shadow: 0px 1px 2px rgba(60, 64, 67, 0.3), 0px 1px 3px 1px rgba(60, 64, 67, 0.15);\n",
              "      fill: #174EA6;\n",
              "    }\n",
              "\n",
              "    [theme=dark] .colab-df-convert {\n",
              "      background-color: #3B4455;\n",
              "      fill: #D2E3FC;\n",
              "    }\n",
              "\n",
              "    [theme=dark] .colab-df-convert:hover {\n",
              "      background-color: #434B5C;\n",
              "      box-shadow: 0px 1px 3px 1px rgba(0, 0, 0, 0.15);\n",
              "      filter: drop-shadow(0px 1px 2px rgba(0, 0, 0, 0.3));\n",
              "      fill: #FFFFFF;\n",
              "    }\n",
              "  </style>\n",
              "\n",
              "      <script>\n",
              "        const buttonEl =\n",
              "          document.querySelector('#df-1a721384-2d82-4858-a175-dbfd30a4ae93 button.colab-df-convert');\n",
              "        buttonEl.style.display =\n",
              "          google.colab.kernel.accessAllowed ? 'block' : 'none';\n",
              "\n",
              "        async function convertToInteractive(key) {\n",
              "          const element = document.querySelector('#df-1a721384-2d82-4858-a175-dbfd30a4ae93');\n",
              "          const dataTable =\n",
              "            await google.colab.kernel.invokeFunction('convertToInteractive',\n",
              "                                                     [key], {});\n",
              "          if (!dataTable) return;\n",
              "\n",
              "          const docLinkHtml = 'Like what you see? Visit the ' +\n",
              "            '<a target=\"_blank\" href=https://colab.research.google.com/notebooks/data_table.ipynb>data table notebook</a>'\n",
              "            + ' to learn more about interactive tables.';\n",
              "          element.innerHTML = '';\n",
              "          dataTable['output_type'] = 'display_data';\n",
              "          await google.colab.output.renderOutput(dataTable, element);\n",
              "          const docLink = document.createElement('div');\n",
              "          docLink.innerHTML = docLinkHtml;\n",
              "          element.appendChild(docLink);\n",
              "        }\n",
              "      </script>\n",
              "    </div>\n",
              "  </div>\n",
              "  "
            ]
          },
          "metadata": {},
          "execution_count": 154
        }
      ]
    },
    {
      "cell_type": "markdown",
      "source": [
        "- Now we can try the last two logistic regressions again."
      ],
      "metadata": {
        "id": "JVIkwAfVYdkz"
      }
    },
    {
      "cell_type": "code",
      "source": [
        "rainingToday = df[df['RainToday'] == 'Yes']\n",
        "notRainingToday = df[df['RainToday'] == 'No']"
      ],
      "metadata": {
        "id": "GQT6aJQ2YS7m"
      },
      "execution_count": null,
      "outputs": []
    },
    {
      "cell_type": "code",
      "source": [
        "# added two new columns\n",
        "X7 = rainingToday.iloc[:, [3,4,12,13,14,15,19,20]].values\n",
        "Y7 = rainingToday.iloc[:, [17]].values\n",
        "\n",
        "Y7[:,-1] = le.fit_transform(Y7[:,-1])\n",
        "\n",
        "Y7 = np.array(Y7, dtype=float)\n",
        "X7 = sc.fit_transform(X7)\n",
        "\n",
        "X7_train,X7_test,Y7_train,Y7_test = train_test_split(X7,Y7,test_size=0.15,random_state=88)\n",
        "Y7_train = Y7_train.reshape(-1,1)\n",
        "\n",
        "lr.fit(X7_train, Y7_train.ravel())\n",
        "Y7_predlr = lr.predict(X7_test)\n",
        "print(lr.score(X7_train, Y7_train))\n",
        "print(accuracy_score(Y7_test, Y7_predlr))"
      ],
      "metadata": {
        "id": "IJIibOieZIh4",
        "colab": {
          "base_uri": "https://localhost:8080/"
        },
        "outputId": "33fbc51b-0bd3-4a83-a0fe-40eb11aec01d"
      },
      "execution_count": null,
      "outputs": [
        {
          "output_type": "stream",
          "name": "stdout",
          "text": [
            "0.7284026258205689\n",
            "0.7272501859657823\n"
          ]
        }
      ]
    },
    {
      "cell_type": "code",
      "source": [
        "cm = confusion_matrix(Y7_test, Y7_predlr, labels=lr.classes_)\n",
        "disp = ConfusionMatrixDisplay(confusion_matrix=cm, display_labels=lr.classes_)\n",
        "disp.plot()"
      ],
      "metadata": {
        "id": "RY0nlBq_ZlRN",
        "colab": {
          "base_uri": "https://localhost:8080/",
          "height": 297
        },
        "outputId": "c32f92b6-6fb3-4d83-d6be-3c27c70c825d"
      },
      "execution_count": null,
      "outputs": [
        {
          "output_type": "execute_result",
          "data": {
            "text/plain": [
              "<sklearn.metrics._plot.confusion_matrix.ConfusionMatrixDisplay at 0x7f8448a7c110>"
            ]
          },
          "metadata": {},
          "execution_count": 157
        },
        {
          "output_type": "display_data",
          "data": {
            "text/plain": [
              "<Figure size 432x288 with 2 Axes>"
            ],
            "image/png": "[encoded data removed]"
          },
          "metadata": {
            "needs_background": "light"
          }
        }
      ]
    },
    {
      "cell_type": "code",
      "source": [
        "X8 = notRainingToday.iloc[:, [3,4,12,13,14,15,19,20]].values\n",
        "Y8 = notRainingToday.iloc[:, [17]].values\n",
        "\n",
        "Y8[:,-1] = le.fit_transform(Y8[:,-1])\n",
        "\n",
        "Y8 = np.array(Y8, dtype=float)\n",
        "X8 = sc.fit_transform(X8)\n",
        "\n",
        "X8_train,X8_test,Y8_train,Y8_test = train_test_split(X8,Y8,test_size=0.15,random_state=11)\n",
        "Y8_train = Y8_train.reshape(-1,1)\n",
        "lr.fit(X8_train, Y8_train.ravel())\n",
        "Y8_predlr = lr.predict(X8_test)\n",
        "print(lr.score(X8_train, Y8_train))\n",
        "print(accuracy_score(Y8_test, Y8_predlr))"
      ],
      "metadata": {
        "id": "TAnadvgpZ0Tp",
        "colab": {
          "base_uri": "https://localhost:8080/"
        },
        "outputId": "5927f6d9-a008-4b4b-fe9f-ffeaec7840ef"
      },
      "execution_count": null,
      "outputs": [
        {
          "output_type": "stream",
          "name": "stdout",
          "text": [
            "0.8658108946362336\n",
            "0.8675848217487985\n"
          ]
        }
      ]
    },
    {
      "cell_type": "code",
      "source": [
        "cm = confusion_matrix(Y8_test, Y8_predlr, labels=lr.classes_)\n",
        "disp = ConfusionMatrixDisplay(confusion_matrix=cm, display_labels=lr.classes_)\n",
        "disp.plot()"
      ],
      "metadata": {
        "id": "cQKARxRVZ8Ct",
        "colab": {
          "base_uri": "https://localhost:8080/",
          "height": 297
        },
        "outputId": "2bf7a761-e528-40e8-ee27-8429d3bc5c20"
      },
      "execution_count": null,
      "outputs": [
        {
          "output_type": "execute_result",
          "data": {
            "text/plain": [
              "<sklearn.metrics._plot.confusion_matrix.ConfusionMatrixDisplay at 0x7f8448be1750>"
            ]
          },
          "metadata": {},
          "execution_count": 159
        },
        {
          "output_type": "display_data",
          "data": {
            "text/plain": [
              "<Figure size 432x288 with 2 Axes>"
            ],
            "image/png": "[encoded data removed]"
          },
          "metadata": {
            "needs_background": "light"
          }
        }
      ]
    },
    {
      "cell_type": "markdown",
      "source": [
        "- Turns out this barely changes anything when the models are separated. What about against the original model?"
      ],
      "metadata": {
        "id": "zPPFLVpdaOX8"
      }
    },
    {
      "cell_type": "code",
      "source": [
        "#add dayswithoutrain and consistent rain\n",
        "X1 = df.iloc[:, [3,4,12,13,14,15,19,20]].values\n",
        "Y1 = df.iloc[:, [17]].values\n",
        "\n",
        "le = LabelEncoder()\n",
        "Y1[:,-1] = le.fit_transform(Y1[:,-1])\n",
        "\n",
        "Y1 = np.array(Y1, dtype=float)\n",
        "X1 = sc.fit_transform(X1)\n",
        "\n",
        "X1_train,X1_test,Y1_train,Y1_test = train_test_split(X1,Y1,test_size=0.15,random_state=69)\n",
        "Y1_train = Y1_train.reshape(-1,1)\n",
        "\n",
        "lr.fit(X1_train, Y1_train.ravel())\n",
        "Y1_predlr = lr.predict(X1_test)\n",
        "print(lr.score(X1_train, Y1_train))\n",
        "print(accuracy_score(Y1_test, Y1_predlr))"
      ],
      "metadata": {
        "id": "Iq6PABlUac4o",
        "colab": {
          "base_uri": "https://localhost:8080/"
        },
        "outputId": "2ce289ce-6053-4aa3-9a14-6895bbf020e6"
      },
      "execution_count": null,
      "outputs": [
        {
          "output_type": "stream",
          "name": "stdout",
          "text": [
            "0.834197399945014\n",
            "0.8311912312913815\n"
          ]
        }
      ]
    },
    {
      "cell_type": "code",
      "source": [
        "cm = confusion_matrix(Y1_test, Y1_predlr, labels=lr.classes_)\n",
        "disp = ConfusionMatrixDisplay(confusion_matrix=cm, display_labels=lr.classes_)\n",
        "disp.plot()"
      ],
      "metadata": {
        "id": "Un08eTbLbmU9",
        "colab": {
          "base_uri": "https://localhost:8080/",
          "height": 297
        },
        "outputId": "2adaede7-ea61-45c1-d488-d6b3aa0ef3c1"
      },
      "execution_count": null,
      "outputs": [
        {
          "output_type": "execute_result",
          "data": {
            "text/plain": [
              "<sklearn.metrics._plot.confusion_matrix.ConfusionMatrixDisplay at 0x7f8449056290>"
            ]
          },
          "metadata": {},
          "execution_count": 161
        },
        {
          "output_type": "display_data",
          "data": {
            "text/plain": [
              "<Figure size 432x288 with 2 Axes>"
            ],
            "image/png": "[encoded data removed]"
          },
          "metadata": {
            "needs_background": "light"
          }
        }
      ]
    },
    {
      "cell_type": "code",
      "source": [
        "print(13193/(768+13193))\n",
        "print(1746/(1746+2246))"
      ],
      "metadata": {
        "id": "ZvrVzWGYbxl7",
        "colab": {
          "base_uri": "https://localhost:8080/"
        },
        "outputId": "89aa8270-e7bc-4121-8ca8-c6d7de5972e9"
      },
      "execution_count": null,
      "outputs": [
        {
          "output_type": "stream",
          "name": "stdout",
          "text": [
            "0.944989613924504\n",
            "0.437374749498998\n"
          ]
        }
      ]
    },
    {
      "cell_type": "markdown",
      "source": [
        "- That was a bust, what about reducing dimensionality?"
      ],
      "metadata": {
        "id": "V0_2UiwScTWk"
      }
    },
    {
      "cell_type": "code",
      "source": [
        "#Remove cols 12 and 13 (humidity)\n",
        "X1 = df.iloc[:, [3,4,14,15,19,20]].values\n",
        "Y1 = df.iloc[:, [17]].values\n",
        "\n",
        "le = LabelEncoder()\n",
        "Y1[:,-1] = le.fit_transform(Y1[:,-1])\n",
        "\n",
        "Y1 = np.array(Y1, dtype=float)\n",
        "X1 = sc.fit_transform(X1)\n",
        "\n",
        "X1_train,X1_test,Y1_train,Y1_test = train_test_split(X1,Y1,test_size=0.15,random_state=69)\n",
        "Y1_train = Y1_train.reshape(-1,1)\n",
        "\n",
        "lr.fit(X1_train, Y1_train.ravel())\n",
        "Y1_predlr = lr.predict(X1_test)\n",
        "print(lr.score(X1_train, Y1_train))\n",
        "print(accuracy_score(Y1_test, Y1_predlr))"
      ],
      "metadata": {
        "id": "ab5CfXkGcPAt",
        "colab": {
          "base_uri": "https://localhost:8080/"
        },
        "outputId": "64f7fdbd-3e03-4298-eb56-ec85cb97c706"
      },
      "execution_count": null,
      "outputs": [
        {
          "output_type": "stream",
          "name": "stdout",
          "text": [
            "0.8143238678763599\n",
            "0.8127190786179269\n"
          ]
        }
      ]
    },
    {
      "cell_type": "code",
      "source": [
        "#remove 3 and 4, min/maxtemp\n",
        "X1 = df.iloc[:, [12,13,14,15,19,20]].values\n",
        "Y1 = df.iloc[:, [17]].values\n",
        "\n",
        "le = LabelEncoder()\n",
        "Y1[:,-1] = le.fit_transform(Y1[:,-1])\n",
        "\n",
        "Y1 = np.array(Y1, dtype=float)\n",
        "X1 = sc.fit_transform(X1)\n",
        "\n",
        "X1_train,X1_test,Y1_train,Y1_test = train_test_split(X1,Y1,test_size=0.15,random_state=69)\n",
        "Y1_train = Y1_train.reshape(-1,1)\n",
        "\n",
        "lr.fit(X1_train, Y1_train.ravel())\n",
        "Y1_predlr = lr.predict(X1_test)\n",
        "print(lr.score(X1_train, Y1_train))\n",
        "print(accuracy_score(Y1_test, Y1_predlr))"
      ],
      "metadata": {
        "id": "yXnKvOTKdgrp",
        "colab": {
          "base_uri": "https://localhost:8080/"
        },
        "outputId": "316b42f7-8919-4579-d89e-49eaf36f79e6"
      },
      "execution_count": null,
      "outputs": [
        {
          "output_type": "stream",
          "name": "stdout",
          "text": [
            "0.8330485841090295\n",
            "0.8286874756579313\n"
          ]
        }
      ]
    },
    {
      "cell_type": "code",
      "source": [
        "X1 = df.iloc[:, [3,4,12,13,19,20]].values\n",
        "X1 = sc.fit_transform(X1)\n",
        "\n",
        "X1_train,X1_test,Y1_train,Y1_test = train_test_split(X1,Y1,test_size=0.15,random_state=76)\n",
        "Y1_train = Y1_train.reshape(-1,1)\n",
        "\n",
        "lr.fit(X1_train, Y1_train.ravel())\n",
        "Y1_predlr = lr.predict(X1_test)\n",
        "print(lr.score(X1_train, Y1_train))\n",
        "print(accuracy_score(Y1_test, Y1_predlr))"
      ],
      "metadata": {
        "id": "JsgPuPxfebeD",
        "colab": {
          "base_uri": "https://localhost:8080/"
        },
        "outputId": "ddfbac64-729a-40f2-c525-23e118ec1cf7"
      },
      "execution_count": null,
      "outputs": [
        {
          "output_type": "stream",
          "name": "stdout",
          "text": [
            "0.8282863988060171\n",
            "0.8290769487564681\n"
          ]
        }
      ]
    },
    {
      "cell_type": "markdown",
      "source": [
        "#Idea 2: Creating New Cols Based on Differences Could Reduce Model Dimensionality"
      ],
      "metadata": {
        "id": "3MNx_irhh19K"
      }
    },
    {
      "cell_type": "code",
      "source": [
        "differenceDF = pd.DataFrame(columns = ['MinMaxDiff', 'WindDiff', 'HumidityDiff', 'PressureDiff'])\n",
        "maxMinDiff = []\n",
        "windDiff = []\n",
        "humidityDiff = []\n",
        "pressureDiff = []\n",
        "outputList = [maxMinDiff, windDiff, humidityDiff, pressureDiff,]\n",
        "diffColPairs = [['MinTemp', 'MaxTemp'], ['WindSpeed9am', 'WindSpeed3pm'], ['Humidity9am', 'Humidity3pm'], ['Pressure9am', 'Pressure3pm']]\n",
        "\n",
        "def find_diff(cols, out, index):\n",
        "  for i in range(df.shape[0]):\n",
        "    if i % 10000 == 0:\n",
        "      print(index, \"at row\", i)\n",
        "    out.append(round(df.loc[i, cols[1]] - df.loc[i, cols[0]], 1))\n",
        "  return out\n",
        "\n",
        "threads = list()\n",
        "for index in range(4):\n",
        "  print(\"Starting: \", index)\n",
        "  x = threading.Thread(target=find_diff, args=(diffColPairs[index], outputList[index], index,))\n",
        "  threads.append(x)\n",
        "  x.start()\n",
        "\n",
        "for index, thread in enumerate(threads):\n",
        "  print(\"Waiting on\", index)\n",
        "  thread.join()\n",
        "  print(index, \"Done\")\n"
      ],
      "metadata": {
        "id": "AnzHrFo_h1eF",
        "colab": {
          "base_uri": "https://localhost:8080/"
        },
        "outputId": "07a4affb-1743-41f8-e15a-76df349f54c8"
      },
      "execution_count": null,
      "outputs": [
        {
          "output_type": "stream",
          "name": "stdout",
          "text": [
            "Starting:  0\n",
            "0Starting:  1\n",
            " at row 0\n",
            "1Starting:  2\n",
            " at row 0\n",
            "2 at row 0\n",
            "Starting:  3\n",
            "3 at row 0\n",
            "Waiting on 0\n",
            "2 at row 10000\n",
            "1 at row 10000\n",
            "3 0 at row 10000\n",
            "at row 10000\n",
            "1 at row 20000\n",
            "32 at row at row  20000\n",
            "20000\n",
            "0 at row 20000\n",
            "1 at row 30000\n",
            "20 at row 30000\n",
            " at row 30000\n",
            "3 at row 30000\n",
            "1 at row 40000\n",
            "2 at row 040000\n",
            " at row 40000\n",
            "3 at row 40000\n",
            "1 at row 50000\n",
            "0 at row 50000\n",
            "2 at row 50000\n",
            "3 at row 50000\n",
            "1 at row 60000\n",
            "0 at row 60000\n",
            "2 at row 60000\n",
            "3 at row 60000\n",
            "1 at row 70000\n",
            "0 at row 70000\n",
            "2 at row 70000\n",
            "3 at row 70000\n",
            "1 at row 80000\n",
            "20  at row 80000\n",
            "3at row  80000\n",
            "at row 80000\n",
            "1 at row 90000\n",
            "3 at row 90000\n",
            "0 at row 90000\n",
            "2 at row 90000\n",
            "1 at row 100000\n",
            "3 at row 100000\n",
            "0 at row 100000\n",
            "2 at row 100000\n",
            "1 at row 110000\n",
            "0 at row 110000\n",
            "3 at row 110000\n",
            "2 at row 110000\n",
            "0 Done\n",
            "Waiting on 1\n",
            "1 Done\n",
            "Waiting on 2\n",
            "2 Done\n",
            "Waiting on 3\n",
            "3 Done\n"
          ]
        }
      ]
    },
    {
      "cell_type": "code",
      "source": [
        "df['MinMaxDiff'] = maxMinDiff\n",
        "df['WindDiff'] = windDiff\n",
        "df['HumidityDiff'] = humidityDiff\n",
        "df['PressureDiff'] = pressureDiff\n",
        "df"
      ],
      "metadata": {
        "id": "ixK69Q6ijZy1",
        "colab": {
          "base_uri": "https://localhost:8080/",
          "height": 488
        },
        "outputId": "aaff8ad3-f0cd-499e-cc5c-4ca68b35ef3f"
      },
      "execution_count": null,
      "outputs": [
        {
          "output_type": "execute_result",
          "data": {
            "text/plain": [
              "             Date State Location  MinTemp  MaxTemp  Rainfall  WindGustDir  \\\n",
              "0      2008-12-01   NSW   Albury     13.4     22.9       0.6        270.0   \n",
              "1      2008-12-02   NSW   Albury      7.4     25.1       0.0        292.5   \n",
              "2      2008-12-03   NSW   Albury     12.9     25.7       0.0        247.5   \n",
              "3      2008-12-04   NSW   Albury      9.2     28.0       0.0         45.0   \n",
              "4      2008-12-05   NSW   Albury     17.5     32.3       1.0        270.0   \n",
              "...           ...   ...      ...      ...      ...       ...          ...   \n",
              "119812 2017-06-20    NT    Uluru      3.5     21.8       0.0         90.0   \n",
              "119813 2017-06-21    NT    Uluru      2.8     23.4       0.0         90.0   \n",
              "119814 2017-06-22    NT    Uluru      3.6     25.3       0.0        337.5   \n",
              "119815 2017-06-23    NT    Uluru      5.4     26.9       0.0          0.0   \n",
              "119816 2017-06-24    NT    Uluru      7.8     27.0       0.0        135.0   \n",
              "\n",
              "        WindGustSpeed  WindDir9am  WindDir3pm  ...  Pressure3pm  RainToday  \\\n",
              "0                44.0       270.0       292.5  ...       1007.1         No   \n",
              "1                44.0       337.5       247.5  ...       1007.8         No   \n",
              "2                46.0       270.0       247.5  ...       1008.7         No   \n",
              "3                24.0       135.0        90.0  ...       1012.8         No   \n",
              "4                41.0        67.5       315.0  ...       1006.0         No   \n",
              "...               ...         ...         ...  ...          ...        ...   \n",
              "119812           31.0       112.5        90.0  ...       1021.2         No   \n",
              "119813           31.0       135.0        67.5  ...       1020.3         No   \n",
              "119814           22.0       135.0         0.0  ...       1019.1         No   \n",
              "119815           37.0       135.0       292.5  ...       1016.8         No   \n",
              "119816           28.0       157.5         0.0  ...       1016.5         No   \n",
              "\n",
              "        RainTomorrow  Seasons  SinceLastRain  ConsistentRain MinMaxDiff  \\\n",
              "0                  0        0              1               0        9.5   \n",
              "1                  0        0              2               0       17.7   \n",
              "2                  0        0              3               0       12.8   \n",
              "3                  0        0              4               0       18.8   \n",
              "4                  0        0              5               0       14.8   \n",
              "...              ...      ...            ...             ...        ...   \n",
              "119812             0        2             60               0       18.3   \n",
              "119813             0        2             61               0       20.6   \n",
              "119814             0        2             62               0       21.7   \n",
              "119815             0        2             63               0       21.5   \n",
              "119816             0        2             64               0       19.2   \n",
              "\n",
              "       WindDiff  HumidityDiff  PressureDiff  \n",
              "0           4.0         -49.0          -0.6  \n",
              "1          18.0         -19.0          -2.8  \n",
              "2           7.0          -8.0           1.1  \n",
              "3          -2.0         -29.0          -4.8  \n",
              "4          13.0         -49.0          -4.8  \n",
              "...         ...           ...           ...  \n",
              "119812     -2.0         -32.0          -3.5  \n",
              "119813     -2.0         -27.0          -4.3  \n",
              "119814     -4.0         -35.0          -4.4  \n",
              "119815      0.0         -29.0          -4.2  \n",
              "119816     -6.0         -27.0          -2.9  \n",
              "\n",
              "[119817 rows x 25 columns]"
            ],
            "text/html": [
              "\n",
              "  <div id=\"df-b07d9e5b-88ff-4479-b554-f87e2363f31c\">\n",
              "    <div class=\"colab-df-container\">\n",
              "      <div>\n",
              "<style scoped>\n",
              "    .dataframe tbody tr th:only-of-type {\n",
              "        vertical-align: middle;\n",
              "    }\n",
              "\n",
              "    .dataframe tbody tr th {\n",
              "        vertical-align: top;\n",
              "    }\n",
              "\n",
              "    .dataframe thead th {\n",
              "        text-align: right;\n",
              "    }\n",
              "</style>\n",
              "<table border=\"1\" class=\"dataframe\">\n",
              "  <thead>\n",
              "    <tr style=\"text-align: right;\">\n",
              "      <th></th>\n",
              "      <th>Date</th>\n",
              "      <th>State</th>\n",
              "      <th>Location</th>\n",
              "      <th>MinTemp</th>\n",
              "      <th>MaxTemp</th>\n",
              "      <th>Rainfall</th>\n",
              "      <th>WindGustDir</th>\n",
              "      <th>WindGustSpeed</th>\n",
              "      <th>WindDir9am</th>\n",
              "      <th>WindDir3pm</th>\n",
              "      <th>...</th>\n",
              "      <th>Pressure3pm</th>\n",
              "      <th>RainToday</th>\n",
              "      <th>RainTomorrow</th>\n",
              "      <th>Seasons</th>\n",
              "      <th>SinceLastRain</th>\n",
              "      <th>ConsistentRain</th>\n",
              "      <th>MinMaxDiff</th>\n",
              "      <th>WindDiff</th>\n",
              "      <th>HumidityDiff</th>\n",
              "      <th>PressureDiff</th>\n",
              "    </tr>\n",
              "  </thead>\n",
              "  <tbody>\n",
              "    <tr>\n",
              "      <th>0</th>\n",
              "      <td>2008-12-01</td>\n",
              "      <td>NSW</td>\n",
              "      <td>Albury</td>\n",
              "      <td>13.4</td>\n",
              "      <td>22.9</td>\n",
              "      <td>0.6</td>\n",
              "      <td>270.0</td>\n",
              "      <td>44.0</td>\n",
              "      <td>270.0</td>\n",
              "      <td>292.5</td>\n",
              "      <td>...</td>\n",
              "      <td>1007.1</td>\n",
              "      <td>No</td>\n",
              "      <td>0</td>\n",
              "      <td>0</td>\n",
              "      <td>1</td>\n",
              "      <td>0</td>\n",
              "      <td>9.5</td>\n",
              "      <td>4.0</td>\n",
              "      <td>-49.0</td>\n",
              "      <td>-0.6</td>\n",
              "    </tr>\n",
              "    <tr>\n",
              "      <th>1</th>\n",
              "      <td>2008-12-02</td>\n",
              "      <td>NSW</td>\n",
              "      <td>Albury</td>\n",
              "      <td>7.4</td>\n",
              "      <td>25.1</td>\n",
              "      <td>0.0</td>\n",
              "      <td>292.5</td>\n",
              "      <td>44.0</td>\n",
              "      <td>337.5</td>\n",
              "      <td>247.5</td>\n",
              "      <td>...</td>\n",
              "      <td>1007.8</td>\n",
              "      <td>No</td>\n",
              "      <td>0</td>\n",
              "      <td>0</td>\n",
              "      <td>2</td>\n",
              "      <td>0</td>\n",
              "      <td>17.7</td>\n",
              "      <td>18.0</td>\n",
              "      <td>-19.0</td>\n",
              "      <td>-2.8</td>\n",
              "    </tr>\n",
              "    <tr>\n",
              "      <th>2</th>\n",
              "      <td>2008-12-03</td>\n",
              "      <td>NSW</td>\n",
              "      <td>Albury</td>\n",
              "      <td>12.9</td>\n",
              "      <td>25.7</td>\n",
              "      <td>0.0</td>\n",
              "      <td>247.5</td>\n",
              "      <td>46.0</td>\n",
              "      <td>270.0</td>\n",
              "      <td>247.5</td>\n",
              "      <td>...</td>\n",
              "      <td>1008.7</td>\n",
              "      <td>No</td>\n",
              "      <td>0</td>\n",
              "      <td>0</td>\n",
              "      <td>3</td>\n",
              "      <td>0</td>\n",
              "      <td>12.8</td>\n",
              "      <td>7.0</td>\n",
              "      <td>-8.0</td>\n",
              "      <td>1.1</td>\n",
              "    </tr>\n",
              "    <tr>\n",
              "      <th>3</th>\n",
              "      <td>2008-12-04</td>\n",
              "      <td>NSW</td>\n",
              "      <td>Albury</td>\n",
              "      <td>9.2</td>\n",
              "      <td>28.0</td>\n",
              "      <td>0.0</td>\n",
              "      <td>45.0</td>\n",
              "      <td>24.0</td>\n",
              "      <td>135.0</td>\n",
              "      <td>90.0</td>\n",
              "      <td>...</td>\n",
              "      <td>1012.8</td>\n",
              "      <td>No</td>\n",
              "      <td>0</td>\n",
              "      <td>0</td>\n",
              "      <td>4</td>\n",
              "      <td>0</td>\n",
              "      <td>18.8</td>\n",
              "      <td>-2.0</td>\n",
              "      <td>-29.0</td>\n",
              "      <td>-4.8</td>\n",
              "    </tr>\n",
              "    <tr>\n",
              "      <th>4</th>\n",
              "      <td>2008-12-05</td>\n",
              "      <td>NSW</td>\n",
              "      <td>Albury</td>\n",
              "      <td>17.5</td>\n",
              "      <td>32.3</td>\n",
              "      <td>1.0</td>\n",
              "      <td>270.0</td>\n",
              "      <td>41.0</td>\n",
              "      <td>67.5</td>\n",
              "      <td>315.0</td>\n",
              "      <td>...</td>\n",
              "      <td>1006.0</td>\n",
              "      <td>No</td>\n",
              "      <td>0</td>\n",
              "      <td>0</td>\n",
              "      <td>5</td>\n",
              "      <td>0</td>\n",
              "      <td>14.8</td>\n",
              "      <td>13.0</td>\n",
              "      <td>-49.0</td>\n",
              "      <td>-4.8</td>\n",
              "    </tr>\n",
              "    <tr>\n",
              "      <th>...</th>\n",
              "      <td>...</td>\n",
              "      <td>...</td>\n",
              "      <td>...</td>\n",
              "      <td>...</td>\n",
              "      <td>...</td>\n",
              "      <td>...</td>\n",
              "      <td>...</td>\n",
              "      <td>...</td>\n",
              "      <td>...</td>\n",
              "      <td>...</td>\n",
              "      <td>...</td>\n",
              "      <td>...</td>\n",
              "      <td>...</td>\n",
              "      <td>...</td>\n",
              "      <td>...</td>\n",
              "      <td>...</td>\n",
              "      <td>...</td>\n",
              "      <td>...</td>\n",
              "      <td>...</td>\n",
              "      <td>...</td>\n",
              "      <td>...</td>\n",
              "    </tr>\n",
              "    <tr>\n",
              "      <th>119812</th>\n",
              "      <td>2017-06-20</td>\n",
              "      <td>NT</td>\n",
              "      <td>Uluru</td>\n",
              "      <td>3.5</td>\n",
              "      <td>21.8</td>\n",
              "      <td>0.0</td>\n",
              "      <td>90.0</td>\n",
              "      <td>31.0</td>\n",
              "      <td>112.5</td>\n",
              "      <td>90.0</td>\n",
              "      <td>...</td>\n",
              "      <td>1021.2</td>\n",
              "      <td>No</td>\n",
              "      <td>0</td>\n",
              "      <td>2</td>\n",
              "      <td>60</td>\n",
              "      <td>0</td>\n",
              "      <td>18.3</td>\n",
              "      <td>-2.0</td>\n",
              "      <td>-32.0</td>\n",
              "      <td>-3.5</td>\n",
              "    </tr>\n",
              "    <tr>\n",
              "      <th>119813</th>\n",
              "      <td>2017-06-21</td>\n",
              "      <td>NT</td>\n",
              "      <td>Uluru</td>\n",
              "      <td>2.8</td>\n",
              "      <td>23.4</td>\n",
              "      <td>0.0</td>\n",
              "      <td>90.0</td>\n",
              "      <td>31.0</td>\n",
              "      <td>135.0</td>\n",
              "      <td>67.5</td>\n",
              "      <td>...</td>\n",
              "      <td>1020.3</td>\n",
              "      <td>No</td>\n",
              "      <td>0</td>\n",
              "      <td>2</td>\n",
              "      <td>61</td>\n",
              "      <td>0</td>\n",
              "      <td>20.6</td>\n",
              "      <td>-2.0</td>\n",
              "      <td>-27.0</td>\n",
              "      <td>-4.3</td>\n",
              "    </tr>\n",
              "    <tr>\n",
              "      <th>119814</th>\n",
              "      <td>2017-06-22</td>\n",
              "      <td>NT</td>\n",
              "      <td>Uluru</td>\n",
              "      <td>3.6</td>\n",
              "      <td>25.3</td>\n",
              "      <td>0.0</td>\n",
              "      <td>337.5</td>\n",
              "      <td>22.0</td>\n",
              "      <td>135.0</td>\n",
              "      <td>0.0</td>\n",
              "      <td>...</td>\n",
              "      <td>1019.1</td>\n",
              "      <td>No</td>\n",
              "      <td>0</td>\n",
              "      <td>2</td>\n",
              "      <td>62</td>\n",
              "      <td>0</td>\n",
              "      <td>21.7</td>\n",
              "      <td>-4.0</td>\n",
              "      <td>-35.0</td>\n",
              "      <td>-4.4</td>\n",
              "    </tr>\n",
              "    <tr>\n",
              "      <th>119815</th>\n",
              "      <td>2017-06-23</td>\n",
              "      <td>NT</td>\n",
              "      <td>Uluru</td>\n",
              "      <td>5.4</td>\n",
              "      <td>26.9</td>\n",
              "      <td>0.0</td>\n",
              "      <td>0.0</td>\n",
              "      <td>37.0</td>\n",
              "      <td>135.0</td>\n",
              "      <td>292.5</td>\n",
              "      <td>...</td>\n",
              "      <td>1016.8</td>\n",
              "      <td>No</td>\n",
              "      <td>0</td>\n",
              "      <td>2</td>\n",
              "      <td>63</td>\n",
              "      <td>0</td>\n",
              "      <td>21.5</td>\n",
              "      <td>0.0</td>\n",
              "      <td>-29.0</td>\n",
              "      <td>-4.2</td>\n",
              "    </tr>\n",
              "    <tr>\n",
              "      <th>119816</th>\n",
              "      <td>2017-06-24</td>\n",
              "      <td>NT</td>\n",
              "      <td>Uluru</td>\n",
              "      <td>7.8</td>\n",
              "      <td>27.0</td>\n",
              "      <td>0.0</td>\n",
              "      <td>135.0</td>\n",
              "      <td>28.0</td>\n",
              "      <td>157.5</td>\n",
              "      <td>0.0</td>\n",
              "      <td>...</td>\n",
              "      <td>1016.5</td>\n",
              "      <td>No</td>\n",
              "      <td>0</td>\n",
              "      <td>2</td>\n",
              "      <td>64</td>\n",
              "      <td>0</td>\n",
              "      <td>19.2</td>\n",
              "      <td>-6.0</td>\n",
              "      <td>-27.0</td>\n",
              "      <td>-2.9</td>\n",
              "    </tr>\n",
              "  </tbody>\n",
              "</table>\n",
              "<p>119817 rows × 25 columns</p>\n",
              "</div>\n",
              "      <button class=\"colab-df-convert\" onclick=\"convertToInteractive('df-b07d9e5b-88ff-4479-b554-f87e2363f31c')\"\n",
              "              title=\"Convert this dataframe to an interactive table.\"\n",
              "              style=\"display:none;\">\n",
              "        \n",
              "  <svg xmlns=\"http://www.w3.org/2000/svg\" height=\"24px\"viewBox=\"0 0 24 24\"\n",
              "       width=\"24px\">\n",
              "    <path d=\"M0 0h24v24H0V0z\" fill=\"none\"/>\n",
              "    <path d=\"M18.56 5.44l.94 2.06.94-2.06 2.06-.94-2.06-.94-.94-2.06-.94 2.06-2.06.94zm-11 1L8.5 8.5l.94-2.06 2.06-.94-2.06-.94L8.5 2.5l-.94 2.06-2.06.94zm10 10l.94 2.06.94-2.06 2.06-.94-2.06-.94-.94-2.06-.94 2.06-2.06.94z\"/><path d=\"M17.41 7.96l-1.37-1.37c-.4-.4-.92-.59-1.43-.59-.52 0-1.04.2-1.43.59L10.3 9.45l-7.72 7.72c-.78.78-.78 2.05 0 2.83L4 21.41c.39.39.9.59 1.41.59.51 0 1.02-.2 1.41-.59l7.78-7.78 2.81-2.81c.8-.78.8-2.07 0-2.86zM5.41 20L4 18.59l7.72-7.72 1.47 1.35L5.41 20z\"/>\n",
              "  </svg>\n",
              "      </button>\n",
              "      \n",
              "  <style>\n",
              "    .colab-df-container {\n",
              "      display:flex;\n",
              "      flex-wrap:wrap;\n",
              "      gap: 12px;\n",
              "    }\n",
              "\n",
              "    .colab-df-convert {\n",
              "      background-color: #E8F0FE;\n",
              "      border: none;\n",
              "      border-radius: 50%;\n",
              "      cursor: pointer;\n",
              "      display: none;\n",
              "      fill: #1967D2;\n",
              "      height: 32px;\n",
              "      padding: 0 0 0 0;\n",
              "      width: 32px;\n",
              "    }\n",
              "\n",
              "    .colab-df-convert:hover {\n",
              "      background-color: #E2EBFA;\n",
              "      box-shadow: 0px 1px 2px rgba(60, 64, 67, 0.3), 0px 1px 3px 1px rgba(60, 64, 67, 0.15);\n",
              "      fill: #174EA6;\n",
              "    }\n",
              "\n",
              "    [theme=dark] .colab-df-convert {\n",
              "      background-color: #3B4455;\n",
              "      fill: #D2E3FC;\n",
              "    }\n",
              "\n",
              "    [theme=dark] .colab-df-convert:hover {\n",
              "      background-color: #434B5C;\n",
              "      box-shadow: 0px 1px 3px 1px rgba(0, 0, 0, 0.15);\n",
              "      filter: drop-shadow(0px 1px 2px rgba(0, 0, 0, 0.3));\n",
              "      fill: #FFFFFF;\n",
              "    }\n",
              "  </style>\n",
              "\n",
              "      <script>\n",
              "        const buttonEl =\n",
              "          document.querySelector('#df-b07d9e5b-88ff-4479-b554-f87e2363f31c button.colab-df-convert');\n",
              "        buttonEl.style.display =\n",
              "          google.colab.kernel.accessAllowed ? 'block' : 'none';\n",
              "\n",
              "        async function convertToInteractive(key) {\n",
              "          const element = document.querySelector('#df-b07d9e5b-88ff-4479-b554-f87e2363f31c');\n",
              "          const dataTable =\n",
              "            await google.colab.kernel.invokeFunction('convertToInteractive',\n",
              "                                                     [key], {});\n",
              "          if (!dataTable) return;\n",
              "\n",
              "          const docLinkHtml = 'Like what you see? Visit the ' +\n",
              "            '<a target=\"_blank\" href=https://colab.research.google.com/notebooks/data_table.ipynb>data table notebook</a>'\n",
              "            + ' to learn more about interactive tables.';\n",
              "          element.innerHTML = '';\n",
              "          dataTable['output_type'] = 'display_data';\n",
              "          await google.colab.output.renderOutput(dataTable, element);\n",
              "          const docLink = document.createElement('div');\n",
              "          docLink.innerHTML = docLinkHtml;\n",
              "          element.appendChild(docLink);\n",
              "        }\n",
              "      </script>\n",
              "    </div>\n",
              "  </div>\n",
              "  "
            ]
          },
          "metadata": {},
          "execution_count": 167
        }
      ]
    },
    {
      "cell_type": "markdown",
      "source": [
        "#CheckPoint 2\n",
        "- In case of loss of connection, the dataframe after these edits has been saved separately under checkpoint2.csv. Simply run the last two cells under this checkpoint to resume work from this point on."
      ],
      "metadata": {
        "id": "ZdJzNeFFj003"
      }
    },
    {
      "cell_type": "code",
      "source": [
        "compression_opts = dict(method='zip',archive_name='checkpoint2.csv')\n",
        "df.to_csv('checkpoint2.zip', index=False, compression=compression_opts)"
      ],
      "metadata": {
        "id": "2KED6u2kjmtk"
      },
      "execution_count": null,
      "outputs": []
    },
    {
      "cell_type": "code",
      "source": [
        "from google.colab import drive\n",
        "import pandas as pd\n",
        "import numpy as np\n",
        "import matplotlib.pyplot as plt\n",
        "import seaborn as sns\n",
        "import threading\n",
        "from sklearn.impute import SimpleImputer\n",
        "from sklearn.preprocessing import LabelEncoder, StandardScaler\n",
        "from sklearn.model_selection import train_test_split\n",
        "from sklearn.ensemble import RandomForestClassifier\n",
        "from sklearn.metrics import accuracy_score, confusion_matrix, ConfusionMatrixDisplay\n",
        "from sklearn.linear_model import LogisticRegression\n",
        "\n",
        "drive.mount('/content/drive')\n",
        "mypath = \"/content/drive/My Drive/Colab Notebooks/DS2Project/\""
      ],
      "metadata": {
        "colab": {
          "base_uri": "https://localhost:8080/"
        },
        "id": "QYSZRzUPkNkb",
        "outputId": "ef2ca017-46be-4406-da26-1790ad0f1203"
      },
      "execution_count": null,
      "outputs": [
        {
          "output_type": "stream",
          "name": "stdout",
          "text": [
            "Drive already mounted at /content/drive; to attempt to forcibly remount, call drive.mount(\"/content/drive\", force_remount=True).\n"
          ]
        }
      ]
    },
    {
      "cell_type": "code",
      "source": [
        "df = pd.read_csv(mypath + \"Data/checkpoint2.csv\")"
      ],
      "metadata": {
        "id": "jRlgzLrjloaF"
      },
      "execution_count": null,
      "outputs": []
    },
    {
      "cell_type": "markdown",
      "source": [
        "#Switching to QDA\n"
      ],
      "metadata": {
        "id": "jKCdB9YQpkPs"
      }
    },
    {
      "cell_type": "code",
      "source": [
        "df"
      ],
      "metadata": {
        "colab": {
          "base_uri": "https://localhost:8080/",
          "height": 488
        },
        "id": "t8SJ7ioPOY79",
        "outputId": "f9653b90-5d02-4ca0-d8a3-6753291e9b32"
      },
      "execution_count": null,
      "outputs": [
        {
          "output_type": "execute_result",
          "data": {
            "text/plain": [
              "              Date State Location  MinTemp  MaxTemp  Rainfall  WindGustDir  \\\n",
              "0       2008-12-01   NSW   Albury     13.4     22.9       0.6        270.0   \n",
              "1       2008-12-02   NSW   Albury      7.4     25.1       0.0        292.5   \n",
              "2       2008-12-03   NSW   Albury     12.9     25.7       0.0        247.5   \n",
              "3       2008-12-04   NSW   Albury      9.2     28.0       0.0         45.0   \n",
              "4       2008-12-05   NSW   Albury     17.5     32.3       1.0        270.0   \n",
              "...            ...   ...      ...      ...      ...       ...          ...   \n",
              "119812  2017-06-20    NT    Uluru      3.5     21.8       0.0         90.0   \n",
              "119813  2017-06-21    NT    Uluru      2.8     23.4       0.0         90.0   \n",
              "119814  2017-06-22    NT    Uluru      3.6     25.3       0.0        337.5   \n",
              "119815  2017-06-23    NT    Uluru      5.4     26.9       0.0          0.0   \n",
              "119816  2017-06-24    NT    Uluru      7.8     27.0       0.0        135.0   \n",
              "\n",
              "        WindGustSpeed  WindDir9am  WindDir3pm  ...  Pressure3pm  RainToday  \\\n",
              "0                44.0       270.0       292.5  ...       1007.1         No   \n",
              "1                44.0       337.5       247.5  ...       1007.8         No   \n",
              "2                46.0       270.0       247.5  ...       1008.7         No   \n",
              "3                24.0       135.0        90.0  ...       1012.8         No   \n",
              "4                41.0        67.5       315.0  ...       1006.0         No   \n",
              "...               ...         ...         ...  ...          ...        ...   \n",
              "119812           31.0       112.5        90.0  ...       1021.2         No   \n",
              "119813           31.0       135.0        67.5  ...       1020.3         No   \n",
              "119814           22.0       135.0         0.0  ...       1019.1         No   \n",
              "119815           37.0       135.0       292.5  ...       1016.8         No   \n",
              "119816           28.0       157.5         0.0  ...       1016.5         No   \n",
              "\n",
              "        RainTomorrow  Seasons  SinceLastRain  ConsistentRain MinMaxDiff  \\\n",
              "0                 No        0              1               0        9.5   \n",
              "1                 No        0              2               0       17.7   \n",
              "2                 No        0              3               0       12.8   \n",
              "3                 No        0              4               0       18.8   \n",
              "4                 No        0              5               0       14.8   \n",
              "...              ...      ...            ...             ...        ...   \n",
              "119812            No        2             60               0       18.3   \n",
              "119813            No        2             61               0       20.6   \n",
              "119814            No        2             62               0       21.7   \n",
              "119815            No        2             63               0       21.5   \n",
              "119816            No        2             64               0       19.2   \n",
              "\n",
              "       WindDiff  HumidityDiff  PressureDiff  \n",
              "0           4.0         -49.0          -0.6  \n",
              "1          18.0         -19.0          -2.8  \n",
              "2           7.0          -8.0           1.1  \n",
              "3          -2.0         -29.0          -4.8  \n",
              "4          13.0         -49.0          -4.8  \n",
              "...         ...           ...           ...  \n",
              "119812     -2.0         -32.0          -3.5  \n",
              "119813     -2.0         -27.0          -4.3  \n",
              "119814     -4.0         -35.0          -4.4  \n",
              "119815      0.0         -29.0          -4.2  \n",
              "119816     -6.0         -27.0          -2.9  \n",
              "\n",
              "[119817 rows x 25 columns]"
            ],
            "text/html": [
              "\n",
              "  <div id=\"df-f9575ed8-3ef1-4e37-86ae-8354da79b962\">\n",
              "    <div class=\"colab-df-container\">\n",
              "      <div>\n",
              "<style scoped>\n",
              "    .dataframe tbody tr th:only-of-type {\n",
              "        vertical-align: middle;\n",
              "    }\n",
              "\n",
              "    .dataframe tbody tr th {\n",
              "        vertical-align: top;\n",
              "    }\n",
              "\n",
              "    .dataframe thead th {\n",
              "        text-align: right;\n",
              "    }\n",
              "</style>\n",
              "<table border=\"1\" class=\"dataframe\">\n",
              "  <thead>\n",
              "    <tr style=\"text-align: right;\">\n",
              "      <th></th>\n",
              "      <th>Date</th>\n",
              "      <th>State</th>\n",
              "      <th>Location</th>\n",
              "      <th>MinTemp</th>\n",
              "      <th>MaxTemp</th>\n",
              "      <th>Rainfall</th>\n",
              "      <th>WindGustDir</th>\n",
              "      <th>WindGustSpeed</th>\n",
              "      <th>WindDir9am</th>\n",
              "      <th>WindDir3pm</th>\n",
              "      <th>...</th>\n",
              "      <th>Pressure3pm</th>\n",
              "      <th>RainToday</th>\n",
              "      <th>RainTomorrow</th>\n",
              "      <th>Seasons</th>\n",
              "      <th>SinceLastRain</th>\n",
              "      <th>ConsistentRain</th>\n",
              "      <th>MinMaxDiff</th>\n",
              "      <th>WindDiff</th>\n",
              "      <th>HumidityDiff</th>\n",
              "      <th>PressureDiff</th>\n",
              "    </tr>\n",
              "  </thead>\n",
              "  <tbody>\n",
              "    <tr>\n",
              "      <th>0</th>\n",
              "      <td>2008-12-01</td>\n",
              "      <td>NSW</td>\n",
              "      <td>Albury</td>\n",
              "      <td>13.4</td>\n",
              "      <td>22.9</td>\n",
              "      <td>0.6</td>\n",
              "      <td>270.0</td>\n",
              "      <td>44.0</td>\n",
              "      <td>270.0</td>\n",
              "      <td>292.5</td>\n",
              "      <td>...</td>\n",
              "      <td>1007.1</td>\n",
              "      <td>No</td>\n",
              "      <td>No</td>\n",
              "      <td>0</td>\n",
              "      <td>1</td>\n",
              "      <td>0</td>\n",
              "      <td>9.5</td>\n",
              "      <td>4.0</td>\n",
              "      <td>-49.0</td>\n",
              "      <td>-0.6</td>\n",
              "    </tr>\n",
              "    <tr>\n",
              "      <th>1</th>\n",
              "      <td>2008-12-02</td>\n",
              "      <td>NSW</td>\n",
              "      <td>Albury</td>\n",
              "      <td>7.4</td>\n",
              "      <td>25.1</td>\n",
              "      <td>0.0</td>\n",
              "      <td>292.5</td>\n",
              "      <td>44.0</td>\n",
              "      <td>337.5</td>\n",
              "      <td>247.5</td>\n",
              "      <td>...</td>\n",
              "      <td>1007.8</td>\n",
              "      <td>No</td>\n",
              "      <td>No</td>\n",
              "      <td>0</td>\n",
              "      <td>2</td>\n",
              "      <td>0</td>\n",
              "      <td>17.7</td>\n",
              "      <td>18.0</td>\n",
              "      <td>-19.0</td>\n",
              "      <td>-2.8</td>\n",
              "    </tr>\n",
              "    <tr>\n",
              "      <th>2</th>\n",
              "      <td>2008-12-03</td>\n",
              "      <td>NSW</td>\n",
              "      <td>Albury</td>\n",
              "      <td>12.9</td>\n",
              "      <td>25.7</td>\n",
              "      <td>0.0</td>\n",
              "      <td>247.5</td>\n",
              "      <td>46.0</td>\n",
              "      <td>270.0</td>\n",
              "      <td>247.5</td>\n",
              "      <td>...</td>\n",
              "      <td>1008.7</td>\n",
              "      <td>No</td>\n",
              "      <td>No</td>\n",
              "      <td>0</td>\n",
              "      <td>3</td>\n",
              "      <td>0</td>\n",
              "      <td>12.8</td>\n",
              "      <td>7.0</td>\n",
              "      <td>-8.0</td>\n",
              "      <td>1.1</td>\n",
              "    </tr>\n",
              "    <tr>\n",
              "      <th>3</th>\n",
              "      <td>2008-12-04</td>\n",
              "      <td>NSW</td>\n",
              "      <td>Albury</td>\n",
              "      <td>9.2</td>\n",
              "      <td>28.0</td>\n",
              "      <td>0.0</td>\n",
              "      <td>45.0</td>\n",
              "      <td>24.0</td>\n",
              "      <td>135.0</td>\n",
              "      <td>90.0</td>\n",
              "      <td>...</td>\n",
              "      <td>1012.8</td>\n",
              "      <td>No</td>\n",
              "      <td>No</td>\n",
              "      <td>0</td>\n",
              "      <td>4</td>\n",
              "      <td>0</td>\n",
              "      <td>18.8</td>\n",
              "      <td>-2.0</td>\n",
              "      <td>-29.0</td>\n",
              "      <td>-4.8</td>\n",
              "    </tr>\n",
              "    <tr>\n",
              "      <th>4</th>\n",
              "      <td>2008-12-05</td>\n",
              "      <td>NSW</td>\n",
              "      <td>Albury</td>\n",
              "      <td>17.5</td>\n",
              "      <td>32.3</td>\n",
              "      <td>1.0</td>\n",
              "      <td>270.0</td>\n",
              "      <td>41.0</td>\n",
              "      <td>67.5</td>\n",
              "      <td>315.0</td>\n",
              "      <td>...</td>\n",
              "      <td>1006.0</td>\n",
              "      <td>No</td>\n",
              "      <td>No</td>\n",
              "      <td>0</td>\n",
              "      <td>5</td>\n",
              "      <td>0</td>\n",
              "      <td>14.8</td>\n",
              "      <td>13.0</td>\n",
              "      <td>-49.0</td>\n",
              "      <td>-4.8</td>\n",
              "    </tr>\n",
              "    <tr>\n",
              "      <th>...</th>\n",
              "      <td>...</td>\n",
              "      <td>...</td>\n",
              "      <td>...</td>\n",
              "      <td>...</td>\n",
              "      <td>...</td>\n",
              "      <td>...</td>\n",
              "      <td>...</td>\n",
              "      <td>...</td>\n",
              "      <td>...</td>\n",
              "      <td>...</td>\n",
              "      <td>...</td>\n",
              "      <td>...</td>\n",
              "      <td>...</td>\n",
              "      <td>...</td>\n",
              "      <td>...</td>\n",
              "      <td>...</td>\n",
              "      <td>...</td>\n",
              "      <td>...</td>\n",
              "      <td>...</td>\n",
              "      <td>...</td>\n",
              "      <td>...</td>\n",
              "    </tr>\n",
              "    <tr>\n",
              "      <th>119812</th>\n",
              "      <td>2017-06-20</td>\n",
              "      <td>NT</td>\n",
              "      <td>Uluru</td>\n",
              "      <td>3.5</td>\n",
              "      <td>21.8</td>\n",
              "      <td>0.0</td>\n",
              "      <td>90.0</td>\n",
              "      <td>31.0</td>\n",
              "      <td>112.5</td>\n",
              "      <td>90.0</td>\n",
              "      <td>...</td>\n",
              "      <td>1021.2</td>\n",
              "      <td>No</td>\n",
              "      <td>No</td>\n",
              "      <td>2</td>\n",
              "      <td>60</td>\n",
              "      <td>0</td>\n",
              "      <td>18.3</td>\n",
              "      <td>-2.0</td>\n",
              "      <td>-32.0</td>\n",
              "      <td>-3.5</td>\n",
              "    </tr>\n",
              "    <tr>\n",
              "      <th>119813</th>\n",
              "      <td>2017-06-21</td>\n",
              "      <td>NT</td>\n",
              "      <td>Uluru</td>\n",
              "      <td>2.8</td>\n",
              "      <td>23.4</td>\n",
              "      <td>0.0</td>\n",
              "      <td>90.0</td>\n",
              "      <td>31.0</td>\n",
              "      <td>135.0</td>\n",
              "      <td>67.5</td>\n",
              "      <td>...</td>\n",
              "      <td>1020.3</td>\n",
              "      <td>No</td>\n",
              "      <td>No</td>\n",
              "      <td>2</td>\n",
              "      <td>61</td>\n",
              "      <td>0</td>\n",
              "      <td>20.6</td>\n",
              "      <td>-2.0</td>\n",
              "      <td>-27.0</td>\n",
              "      <td>-4.3</td>\n",
              "    </tr>\n",
              "    <tr>\n",
              "      <th>119814</th>\n",
              "      <td>2017-06-22</td>\n",
              "      <td>NT</td>\n",
              "      <td>Uluru</td>\n",
              "      <td>3.6</td>\n",
              "      <td>25.3</td>\n",
              "      <td>0.0</td>\n",
              "      <td>337.5</td>\n",
              "      <td>22.0</td>\n",
              "      <td>135.0</td>\n",
              "      <td>0.0</td>\n",
              "      <td>...</td>\n",
              "      <td>1019.1</td>\n",
              "      <td>No</td>\n",
              "      <td>No</td>\n",
              "      <td>2</td>\n",
              "      <td>62</td>\n",
              "      <td>0</td>\n",
              "      <td>21.7</td>\n",
              "      <td>-4.0</td>\n",
              "      <td>-35.0</td>\n",
              "      <td>-4.4</td>\n",
              "    </tr>\n",
              "    <tr>\n",
              "      <th>119815</th>\n",
              "      <td>2017-06-23</td>\n",
              "      <td>NT</td>\n",
              "      <td>Uluru</td>\n",
              "      <td>5.4</td>\n",
              "      <td>26.9</td>\n",
              "      <td>0.0</td>\n",
              "      <td>0.0</td>\n",
              "      <td>37.0</td>\n",
              "      <td>135.0</td>\n",
              "      <td>292.5</td>\n",
              "      <td>...</td>\n",
              "      <td>1016.8</td>\n",
              "      <td>No</td>\n",
              "      <td>No</td>\n",
              "      <td>2</td>\n",
              "      <td>63</td>\n",
              "      <td>0</td>\n",
              "      <td>21.5</td>\n",
              "      <td>0.0</td>\n",
              "      <td>-29.0</td>\n",
              "      <td>-4.2</td>\n",
              "    </tr>\n",
              "    <tr>\n",
              "      <th>119816</th>\n",
              "      <td>2017-06-24</td>\n",
              "      <td>NT</td>\n",
              "      <td>Uluru</td>\n",
              "      <td>7.8</td>\n",
              "      <td>27.0</td>\n",
              "      <td>0.0</td>\n",
              "      <td>135.0</td>\n",
              "      <td>28.0</td>\n",
              "      <td>157.5</td>\n",
              "      <td>0.0</td>\n",
              "      <td>...</td>\n",
              "      <td>1016.5</td>\n",
              "      <td>No</td>\n",
              "      <td>No</td>\n",
              "      <td>2</td>\n",
              "      <td>64</td>\n",
              "      <td>0</td>\n",
              "      <td>19.2</td>\n",
              "      <td>-6.0</td>\n",
              "      <td>-27.0</td>\n",
              "      <td>-2.9</td>\n",
              "    </tr>\n",
              "  </tbody>\n",
              "</table>\n",
              "<p>119817 rows × 25 columns</p>\n",
              "</div>\n",
              "      <button class=\"colab-df-convert\" onclick=\"convertToInteractive('df-f9575ed8-3ef1-4e37-86ae-8354da79b962')\"\n",
              "              title=\"Convert this dataframe to an interactive table.\"\n",
              "              style=\"display:none;\">\n",
              "        \n",
              "  <svg xmlns=\"http://www.w3.org/2000/svg\" height=\"24px\"viewBox=\"0 0 24 24\"\n",
              "       width=\"24px\">\n",
              "    <path d=\"M0 0h24v24H0V0z\" fill=\"none\"/>\n",
              "    <path d=\"M18.56 5.44l.94 2.06.94-2.06 2.06-.94-2.06-.94-.94-2.06-.94 2.06-2.06.94zm-11 1L8.5 8.5l.94-2.06 2.06-.94-2.06-.94L8.5 2.5l-.94 2.06-2.06.94zm10 10l.94 2.06.94-2.06 2.06-.94-2.06-.94-.94-2.06-.94 2.06-2.06.94z\"/><path d=\"M17.41 7.96l-1.37-1.37c-.4-.4-.92-.59-1.43-.59-.52 0-1.04.2-1.43.59L10.3 9.45l-7.72 7.72c-.78.78-.78 2.05 0 2.83L4 21.41c.39.39.9.59 1.41.59.51 0 1.02-.2 1.41-.59l7.78-7.78 2.81-2.81c.8-.78.8-2.07 0-2.86zM5.41 20L4 18.59l7.72-7.72 1.47 1.35L5.41 20z\"/>\n",
              "  </svg>\n",
              "      </button>\n",
              "      \n",
              "  <style>\n",
              "    .colab-df-container {\n",
              "      display:flex;\n",
              "      flex-wrap:wrap;\n",
              "      gap: 12px;\n",
              "    }\n",
              "\n",
              "    .colab-df-convert {\n",
              "      background-color: #E8F0FE;\n",
              "      border: none;\n",
              "      border-radius: 50%;\n",
              "      cursor: pointer;\n",
              "      display: none;\n",
              "      fill: #1967D2;\n",
              "      height: 32px;\n",
              "      padding: 0 0 0 0;\n",
              "      width: 32px;\n",
              "    }\n",
              "\n",
              "    .colab-df-convert:hover {\n",
              "      background-color: #E2EBFA;\n",
              "      box-shadow: 0px 1px 2px rgba(60, 64, 67, 0.3), 0px 1px 3px 1px rgba(60, 64, 67, 0.15);\n",
              "      fill: #174EA6;\n",
              "    }\n",
              "\n",
              "    [theme=dark] .colab-df-convert {\n",
              "      background-color: #3B4455;\n",
              "      fill: #D2E3FC;\n",
              "    }\n",
              "\n",
              "    [theme=dark] .colab-df-convert:hover {\n",
              "      background-color: #434B5C;\n",
              "      box-shadow: 0px 1px 3px 1px rgba(0, 0, 0, 0.15);\n",
              "      filter: drop-shadow(0px 1px 2px rgba(0, 0, 0, 0.3));\n",
              "      fill: #FFFFFF;\n",
              "    }\n",
              "  </style>\n",
              "\n",
              "      <script>\n",
              "        const buttonEl =\n",
              "          document.querySelector('#df-f9575ed8-3ef1-4e37-86ae-8354da79b962 button.colab-df-convert');\n",
              "        buttonEl.style.display =\n",
              "          google.colab.kernel.accessAllowed ? 'block' : 'none';\n",
              "\n",
              "        async function convertToInteractive(key) {\n",
              "          const element = document.querySelector('#df-f9575ed8-3ef1-4e37-86ae-8354da79b962');\n",
              "          const dataTable =\n",
              "            await google.colab.kernel.invokeFunction('convertToInteractive',\n",
              "                                                     [key], {});\n",
              "          if (!dataTable) return;\n",
              "\n",
              "          const docLinkHtml = 'Like what you see? Visit the ' +\n",
              "            '<a target=\"_blank\" href=https://colab.research.google.com/notebooks/data_table.ipynb>data table notebook</a>'\n",
              "            + ' to learn more about interactive tables.';\n",
              "          element.innerHTML = '';\n",
              "          dataTable['output_type'] = 'display_data';\n",
              "          await google.colab.output.renderOutput(dataTable, element);\n",
              "          const docLink = document.createElement('div');\n",
              "          docLink.innerHTML = docLinkHtml;\n",
              "          element.appendChild(docLink);\n",
              "        }\n",
              "      </script>\n",
              "    </div>\n",
              "  </div>\n",
              "  "
            ]
          },
          "metadata": {},
          "execution_count": 171
        }
      ]
    },
    {
      "cell_type": "code",
      "source": [
        "from sklearn.discriminant_analysis import QuadraticDiscriminantAnalysis\n",
        "from sklearn.model_selection import cross_val_score\n",
        "from sklearn.metrics import roc_curve, auc\n",
        "\n",
        "y = df['RainTomorrow'].values.reshape(-1,1)\n",
        "x = df.drop(['Date', 'State', 'Location', 'RainToday','RainTomorrow'], axis=1)\n",
        "\n",
        "le = LabelEncoder()\n",
        "y[:,-1] = le.fit_transform(y[:,-1])\n",
        "y = np.array(y, dtype=float)\n",
        "\n",
        "x_train,x_test,y_train,y_test = train_test_split(x,y,test_size=0.2, random_state=42)\n"
      ],
      "metadata": {
        "id": "x5wfKXHipjBI"
      },
      "execution_count": null,
      "outputs": []
    },
    {
      "cell_type": "code",
      "source": [
        "qda = QuadraticDiscriminantAnalysis()\n",
        "qda.fit(x_train, y_train.ravel())\n",
        "y_prob_qda = qda.predict_proba(x_test)[:,1]\n",
        "y_pred = np.where(y_prob_qda > 0.5, 1, 0)"
      ],
      "metadata": {
        "id": "PsPjSjR0sB7v"
      },
      "execution_count": null,
      "outputs": []
    },
    {
      "cell_type": "code",
      "source": [
        "qda_conf_mat = confusion_matrix(y_test, y_pred)\n",
        "qda_conf_mat"
      ],
      "metadata": {
        "colab": {
          "base_uri": "https://localhost:8080/"
        },
        "id": "IWhWcqG8tIf2",
        "outputId": "1ffe2d7a-abf4-40f2-9903-9e8693893c20"
      },
      "execution_count": null,
      "outputs": [
        {
          "output_type": "execute_result",
          "data": {
            "text/plain": [
              "array([[16694,  1849],\n",
              "       [ 2688,  2733]])"
            ]
          },
          "metadata": {},
          "execution_count": 174
        }
      ]
    },
    {
      "cell_type": "code",
      "source": [
        "print(\"Correct No Rain:\")\n",
        "print(16694/(16694+1849))\n",
        "print(\"\\nCorrect Rain:\")\n",
        "print(2733/(2688+2733))"
      ],
      "metadata": {
        "colab": {
          "base_uri": "https://localhost:8080/"
        },
        "id": "uHC7ApGnwyUV",
        "outputId": "6e3547c2-1243-4506-906e-4ad01c045605"
      },
      "execution_count": null,
      "outputs": [
        {
          "output_type": "stream",
          "name": "stdout",
          "text": [
            "Correct No Rain:\n",
            "0.9002858221431268\n",
            "\n",
            "Correct Rain:\n",
            "0.5041505257332596\n"
          ]
        }
      ]
    },
    {
      "cell_type": "code",
      "source": [
        "false_positive_rate, true_positive_rate, thresholds = roc_curve(y_test,y_prob_qda)\n",
        "roc_auc_qda = auc(false_positive_rate, true_positive_rate)\n",
        "roc_auc_qda"
      ],
      "metadata": {
        "colab": {
          "base_uri": "https://localhost:8080/"
        },
        "id": "I108MtLHuK44",
        "outputId": "cc742b1e-cc65-42a6-8169-1685df640712"
      },
      "execution_count": null,
      "outputs": [
        {
          "output_type": "execute_result",
          "data": {
            "text/plain": [
              "0.8295968479531708"
            ]
          },
          "metadata": {},
          "execution_count": 176
        }
      ]
    },
    {
      "cell_type": "code",
      "source": [
        "def plot_roc(roc_auc):\n",
        "  plt.figure(figsize=(7,7))\n",
        "  plt.title('REciever Operating Characteristic')\n",
        "  plt.plot(false_positive_rate, true_positive_rate, color='red', label='AUC = %0.2f' % roc_auc)\n",
        "  plt.legend(loc='lower right')\n",
        "  plt.plot([0,1], [0,1], linestyle='--')\n",
        "  plt.axis('tight')\n",
        "  plt.ylabel('True Positive Rate')\n",
        "  plt.xlabel('False Positive Rate')"
      ],
      "metadata": {
        "id": "EXFCEBfSvWcg"
      },
      "execution_count": null,
      "outputs": []
    },
    {
      "cell_type": "code",
      "source": [
        "plot_roc(roc_auc_qda)"
      ],
      "metadata": {
        "colab": {
          "base_uri": "https://localhost:8080/",
          "height": 458
        },
        "id": "0Tlb8ZR6ur40",
        "outputId": "66a4d2c4-ec2f-4067-fe26-d886af49f566"
      },
      "execution_count": null,
      "outputs": [
        {
          "output_type": "display_data",
          "data": {
            "text/plain": [
              "<Figure size 504x504 with 1 Axes>"
            ],
            "image/png": "[encoded data removed]"
          },
          "metadata": {
            "needs_background": "light"
          }
        }
      ]
    },
    {
      "cell_type": "markdown",
      "source": [
        "- Use scalar on X data"
      ],
      "metadata": {
        "id": "WvGh-QC9blYI"
      }
    },
    {
      "cell_type": "code",
      "source": [
        "x0 = sc.fit_transform(x)\n",
        "x0_train,x0_test,y0_train,y0_test = train_test_split(x0,y,test_size=0.2, random_state=42)\n",
        "\n",
        "qda.fit(x0_train, y0_train.ravel())\n",
        "y0_prob_qda = qda.predict_proba(x0_test)[:,1]\n",
        "y0_pred = np.where(y0_prob_qda > 0.5, 1, 0)\n",
        "qda_conf_mat = confusion_matrix(y_test, y0_pred)\n",
        "qda_conf_mat"
      ],
      "metadata": {
        "colab": {
          "base_uri": "https://localhost:8080/"
        },
        "id": "OD3IR6hhblAa",
        "outputId": "e801a575-5b7d-492d-e333-d146e8d641b4"
      },
      "execution_count": null,
      "outputs": [
        {
          "output_type": "execute_result",
          "data": {
            "text/plain": [
              "array([[16694,  1849],\n",
              "       [ 2688,  2733]])"
            ]
          },
          "metadata": {},
          "execution_count": 179
        }
      ]
    },
    {
      "cell_type": "code",
      "source": [
        "print(16694/(1849+16694))\n",
        "print(2733/(2688+2733))\n",
        "false_positive_rate, true_positive_rate, thresholds = roc_curve(y_test,y_prob_qda)\n",
        "roc_auc_qda = auc(false_positive_rate, true_positive_rate)\n",
        "print(roc_auc_qda)\n",
        "      "
      ],
      "metadata": {
        "colab": {
          "base_uri": "https://localhost:8080/"
        },
        "id": "iHd_Yw8sdFvo",
        "outputId": "17b084ad-f662-45b8-ff8e-5ed84c475d61"
      },
      "execution_count": null,
      "outputs": [
        {
          "output_type": "stream",
          "name": "stdout",
          "text": [
            "0.9002858221431268\n",
            "0.5041505257332596\n",
            "0.8295968479531708\n"
          ]
        }
      ]
    },
    {
      "cell_type": "markdown",
      "source": [
        "- Scaling data before QDA has no impact"
      ],
      "metadata": {
        "id": "Hj1m5tjJdmSS"
      }
    },
    {
      "cell_type": "markdown",
      "source": [
        "- Lets try reducing dimensionality of model"
      ],
      "metadata": {
        "id": "GMtbfyZfNsQs"
      }
    },
    {
      "cell_type": "code",
      "source": [
        "#using the differences between\n",
        "xa = df.iloc[:, [1, 5, 18,19,20,21,22,23,24]].values\n",
        "#encode label for state\n",
        "le1 = LabelEncoder()\n",
        "xa[:,0] = le1.fit_transform(xa[:,0])\n",
        "\n",
        "xa_train,xa_test,ya_train,ya_test = train_test_split(xa,y,test_size=0.2, random_state=32)\n",
        "qda.fit(xa_train, ya_train.ravel())\n",
        "ya_prob_qda = qda.predict_proba(xa_test)[:,1]\n",
        "ya_pred = np.where(ya_prob_qda > 0.5, 1, 0)\n",
        "\n",
        "qda_conf_mat = confusion_matrix(ya_test, ya_pred)\n",
        "qda_conf_mat"
      ],
      "metadata": {
        "colab": {
          "base_uri": "https://localhost:8080/"
        },
        "id": "7T6Qbj4aNxtn",
        "outputId": "60fbffb7-ca50-40c8-9fee-6384a41bbc6b"
      },
      "execution_count": null,
      "outputs": [
        {
          "output_type": "execute_result",
          "data": {
            "text/plain": [
              "array([[17281,  1299],\n",
              "       [ 3579,  1805]])"
            ]
          },
          "metadata": {},
          "execution_count": 181
        }
      ]
    },
    {
      "cell_type": "code",
      "source": [
        "print(\"Correct No Rain:\")\n",
        "print(17281/(17281+1299))\n",
        "print(\"\\nCorrect Rain:\")\n",
        "print(1805/(3579+1805))"
      ],
      "metadata": {
        "colab": {
          "base_uri": "https://localhost:8080/"
        },
        "id": "QhJEZpIPXbdM",
        "outputId": "11993ef2-dab9-4681-cee5-d40f1a9abf56"
      },
      "execution_count": null,
      "outputs": [
        {
          "output_type": "stream",
          "name": "stdout",
          "text": [
            "Correct No Rain:\n",
            "0.930086114101184\n",
            "\n",
            "Correct Rain:\n",
            "0.3352526002971768\n"
          ]
        }
      ]
    },
    {
      "cell_type": "markdown",
      "source": [
        "- This is worse unfortunately."
      ],
      "metadata": {
        "id": "eSusrSMMXqnq"
      }
    },
    {
      "cell_type": "code",
      "source": [
        "false_positive_rate, true_positive_rate, thresholds = roc_curve(ya_test,ya_prob_qda)\n",
        "roc_auc_qda = auc(false_positive_rate, true_positive_rate)\n",
        "roc_auc_qda\n",
        "plot_roc(roc_auc_qda)"
      ],
      "metadata": {
        "colab": {
          "base_uri": "https://localhost:8080/",
          "height": 458
        },
        "id": "vMpyNXqUXoUJ",
        "outputId": "dd6c8fb9-d368-4bd7-e3cc-39343582345e"
      },
      "execution_count": null,
      "outputs": [
        {
          "output_type": "display_data",
          "data": {
            "text/plain": [
              "<Figure size 504x504 with 1 Axes>"
            ],
            "image/png": "[encoded data removed]"
          },
          "metadata": {
            "needs_background": "light"
          }
        }
      ]
    },
    {
      "cell_type": "markdown",
      "source": [
        "- AUC is smaller than before, either these variables are not as influenctial, or reducing the dimesionality leads to lower accuracy of the model."
      ],
      "metadata": {
        "id": "P0kNtaWcYOH7"
      }
    }
  ]
}